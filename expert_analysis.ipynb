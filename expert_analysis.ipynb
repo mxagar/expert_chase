{
 "cells": [
  {
   "cell_type": "markdown",
   "id": "704750a3-b7e0-4d1f-89f0-388d14212553",
   "metadata": {},
   "source": [
    "# Expert Chase"
   ]
  },
  {
   "cell_type": "code",
   "execution_count": null,
   "id": "c9662b81-c92b-4d0c-9b12-d7e337c609eb",
   "metadata": {},
   "outputs": [],
   "source": []
  }
 ],
 "metadata": {
  "kernelspec": {
   "display_name": "Python 3 (ipykernel)",
   "language": "python",
   "name": "python3"
  },
  "language_info": {
   "codemirror_mode": {
    "name": "ipython",
    "version": 3
   },
   "file_extension": ".py",
   "mimetype": "text/x-python",
   "name": "python",
   "nbconvert_exporter": "python",
   "pygments_lexer": "ipython3",
   "version": "3.7.13"
  }
 },
 "nbformat": 4,
 "nbformat_minor": 5
}
