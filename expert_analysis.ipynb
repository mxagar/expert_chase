{
 "cells": [
  {
   "cell_type": "markdown",
   "id": "704750a3-b7e0-4d1f-89f0-388d14212553",
   "metadata": {},
   "source": [
    "# Expert Chase"
   ]
  },
  {
   "cell_type": "markdown",
   "id": "03a6ace2-3dae-4f14-ace7-3e398a5c3d20",
   "metadata": {},
   "source": [
    "See the co-located [`README.md`](README.md) for more information.\n",
    "\n",
    "### Table of Contents\n",
    "\n",
    "- [1. Dataset: Load and First Exposure](#1.-Dataset:-Load-and-First-Exposure)\n",
    "    - [1.1 First Exposure: Findings and Next Steps](#1.1-First-Exposure:-Findings-and-Next-Steps)\n",
    "- [2. Data Preprocessing, Cleaning and Basic Feature Engineering](#2.-Data-Preprocessing,-Cleaning-and-Basic-Feature-Engineering)\n",
    "    - [2.1 Drop NAs](#2.1-Drop-NAs)\n",
    "    - [2.2 Process Countries and Emails](#2.2-Process-Countries-and-Emails)\n",
    "    - [2.3 Process Timestamp](#2.3-Process-Timestamp)\n",
    "    - [2.4 Assemble Engineerd Columns](#2.4-Assemble-Engineerd-Columns)\n",
    "    - [2.5 Reduce Entries to Experts](#2.5-Reduce-Entries-to-Experts)\n",
    "        - Persist Preprocesed Dataset\n",
    "        - New Reduced Dataset\n",
    "    - [2.6 Data Processing: Findings and Next Steps](#2.6-Data-Processing:-Findings-and-Next-Steps)\n",
    "- [3. More Exploratory Data Analysis and Hypothesis Testing](#3.-More-Exploratory-Data-Analysis-and-Hypothesis-Testing)\n",
    "    - [3.1 Plots](#3.1-Plots)\n",
    "        - Ranking Distributions\n",
    "        - Box Plots\n",
    "        - Bar Plots\n",
    "    - [3.2 Hypothesis Tests](#3.2-Hypothesis-Tests)\n",
    "        - Auxiliary Functions: T Test, Z Test\n",
    "        - Hypothesis Tests\n",
    "    - [3.3 EDA and Hypothesis Tests: Findings](#3.3-EDA-and-Hypothesis-Tests:-Findings)\n",
    "- [4. Modeling: First Approach](#4.-Modeling:-First-Approach)"
   ]
  },
  {
   "cell_type": "markdown",
   "id": "bce695c5-0305-41cb-bd09-1a0bee10cd9e",
   "metadata": {},
   "source": [
    "## 1. Dataset: Load and First Exposure"
   ]
  },
  {
   "cell_type": "markdown",
   "id": "e4e8a099-b63b-4481-9eed-84f45e34baf5",
   "metadata": {},
   "source": [
    "Prior to any data analysis and modeling, we need to load and understand the dataset."
   ]
  },
  {
   "cell_type": "code",
   "execution_count": 1,
   "id": "c9662b81-c92b-4d0c-9b12-d7e337c609eb",
   "metadata": {},
   "outputs": [],
   "source": [
    "import numpy as np\n",
    "import pandas as pd\n",
    "import matplotlib.pyplot as plt\n",
    "import seaborn as sns\n",
    "import scipy.stats.distributions as dist\n",
    "import scipy.stats as stats"
   ]
  },
  {
   "cell_type": "code",
   "execution_count": 2,
   "id": "87616d59-b1d8-45df-95bc-fbcad0a5f304",
   "metadata": {},
   "outputs": [],
   "source": [
    "df = pd.read_csv('data/data_Nov_2022.csv')"
   ]
  },
  {
   "cell_type": "code",
   "execution_count": 3,
   "id": "7da273d9-745e-458a-9543-9d260de2d5e2",
   "metadata": {},
   "outputs": [
    {
     "data": {
      "text/plain": [
       "(371804, 7)"
      ]
     },
     "execution_count": 3,
     "metadata": {},
     "output_type": "execute_result"
    }
   ],
   "source": [
    "df.shape"
   ]
  },
  {
   "cell_type": "code",
   "execution_count": 4,
   "id": "6e908d16-7dca-42fd-9771-70e2ebffdf7d",
   "metadata": {},
   "outputs": [
    {
     "data": {
      "text/html": [
       "<div>\n",
       "<style scoped>\n",
       "    .dataframe tbody tr th:only-of-type {\n",
       "        vertical-align: middle;\n",
       "    }\n",
       "\n",
       "    .dataframe tbody tr th {\n",
       "        vertical-align: top;\n",
       "    }\n",
       "\n",
       "    .dataframe thead th {\n",
       "        text-align: right;\n",
       "    }\n",
       "</style>\n",
       "<table border=\"1\" class=\"dataframe\">\n",
       "  <thead>\n",
       "    <tr style=\"text-align: right;\">\n",
       "      <th></th>\n",
       "      <th>person-id</th>\n",
       "      <th>timestamp</th>\n",
       "      <th>search-id</th>\n",
       "      <th>search-ranking</th>\n",
       "      <th>countries</th>\n",
       "      <th>email-domains</th>\n",
       "      <th>outreach-success</th>\n",
       "    </tr>\n",
       "  </thead>\n",
       "  <tbody>\n",
       "    <tr>\n",
       "      <th>371799</th>\n",
       "      <td>1fdc9fe9-b2bf-49fd-a205-5182eb8a2816</td>\n",
       "      <td>2021-05-18T11:17:37.625000</td>\n",
       "      <td>f18d6829-5eb8-4df1-bd56-40a383f2a5d8</td>\n",
       "      <td>996</td>\n",
       "      <td>US</td>\n",
       "      <td>unc.edu,med.unc.edu</td>\n",
       "      <td>0</td>\n",
       "    </tr>\n",
       "    <tr>\n",
       "      <th>371800</th>\n",
       "      <td>a150e234-1452-4211-b6c3-efd1c6003056</td>\n",
       "      <td>2021-05-18T11:17:37.625000</td>\n",
       "      <td>f18d6829-5eb8-4df1-bd56-40a383f2a5d8</td>\n",
       "      <td>997</td>\n",
       "      <td>US</td>\n",
       "      <td>msx.upmc.edu</td>\n",
       "      <td>0</td>\n",
       "    </tr>\n",
       "    <tr>\n",
       "      <th>371801</th>\n",
       "      <td>668dd801-9b5d-4969-a2c5-9e694bdcc006</td>\n",
       "      <td>2021-05-18T11:17:37.625000</td>\n",
       "      <td>f18d6829-5eb8-4df1-bd56-40a383f2a5d8</td>\n",
       "      <td>998</td>\n",
       "      <td>US</td>\n",
       "      <td>omrf.org</td>\n",
       "      <td>0</td>\n",
       "    </tr>\n",
       "    <tr>\n",
       "      <th>371802</th>\n",
       "      <td>57900bb4-fb62-4a07-949b-b4f27d04e8b9</td>\n",
       "      <td>2021-05-18T11:17:37.625000</td>\n",
       "      <td>f18d6829-5eb8-4df1-bd56-40a383f2a5d8</td>\n",
       "      <td>999</td>\n",
       "      <td>US</td>\n",
       "      <td>hss.edu</td>\n",
       "      <td>0</td>\n",
       "    </tr>\n",
       "    <tr>\n",
       "      <th>371803</th>\n",
       "      <td>466185f8-54a0-473a-bde5-6a8692f1b4fb</td>\n",
       "      <td>2021-05-18T11:17:37.625000</td>\n",
       "      <td>f18d6829-5eb8-4df1-bd56-40a383f2a5d8</td>\n",
       "      <td>1000</td>\n",
       "      <td>US</td>\n",
       "      <td>hss.edu</td>\n",
       "      <td>0</td>\n",
       "    </tr>\n",
       "  </tbody>\n",
       "</table>\n",
       "</div>"
      ],
      "text/plain": [
       "                                   person-id                   timestamp  \\\n",
       "371799  1fdc9fe9-b2bf-49fd-a205-5182eb8a2816  2021-05-18T11:17:37.625000   \n",
       "371800  a150e234-1452-4211-b6c3-efd1c6003056  2021-05-18T11:17:37.625000   \n",
       "371801  668dd801-9b5d-4969-a2c5-9e694bdcc006  2021-05-18T11:17:37.625000   \n",
       "371802  57900bb4-fb62-4a07-949b-b4f27d04e8b9  2021-05-18T11:17:37.625000   \n",
       "371803  466185f8-54a0-473a-bde5-6a8692f1b4fb  2021-05-18T11:17:37.625000   \n",
       "\n",
       "                                   search-id  search-ranking countries  \\\n",
       "371799  f18d6829-5eb8-4df1-bd56-40a383f2a5d8             996        US   \n",
       "371800  f18d6829-5eb8-4df1-bd56-40a383f2a5d8             997        US   \n",
       "371801  f18d6829-5eb8-4df1-bd56-40a383f2a5d8             998        US   \n",
       "371802  f18d6829-5eb8-4df1-bd56-40a383f2a5d8             999        US   \n",
       "371803  f18d6829-5eb8-4df1-bd56-40a383f2a5d8            1000        US   \n",
       "\n",
       "              email-domains  outreach-success  \n",
       "371799  unc.edu,med.unc.edu                 0  \n",
       "371800         msx.upmc.edu                 0  \n",
       "371801             omrf.org                 0  \n",
       "371802              hss.edu                 0  \n",
       "371803              hss.edu                 0  "
      ]
     },
     "execution_count": 4,
     "metadata": {},
     "output_type": "execute_result"
    }
   ],
   "source": [
    "df.tail()"
   ]
  },
  {
   "cell_type": "code",
   "execution_count": 5,
   "id": "d164f8fc-70d0-48e9-9d26-d70418466177",
   "metadata": {},
   "outputs": [
    {
     "name": "stdout",
     "output_type": "stream",
     "text": [
      "<class 'pandas.core.frame.DataFrame'>\n",
      "RangeIndex: 371804 entries, 0 to 371803\n",
      "Data columns (total 7 columns):\n",
      " #   Column            Non-Null Count   Dtype \n",
      "---  ------            --------------   ----- \n",
      " 0   person-id         371804 non-null  object\n",
      " 1   timestamp         371804 non-null  object\n",
      " 2   search-id         371804 non-null  object\n",
      " 3   search-ranking    371804 non-null  int64 \n",
      " 4   countries         371794 non-null  object\n",
      " 5   email-domains     371793 non-null  object\n",
      " 6   outreach-success  371804 non-null  int64 \n",
      "dtypes: int64(2), object(5)\n",
      "memory usage: 19.9+ MB\n"
     ]
    }
   ],
   "source": [
    "df.info()"
   ]
  },
  {
   "cell_type": "code",
   "execution_count": 6,
   "id": "6c4895e0-bda2-4ad7-a9d3-f9dfc2c40a33",
   "metadata": {},
   "outputs": [
    {
     "data": {
      "text/plain": [
       "11"
      ]
     },
     "execution_count": 6,
     "metadata": {},
     "output_type": "execute_result"
    }
   ],
   "source": [
    "# Number of NAs due to values in countries and email-domains\n",
    "# Warning: there're might be other NAs encoded as strings...\n",
    "df.isna().sum(axis=1).replace({2:1}).sum(axis=0)"
   ]
  },
  {
   "cell_type": "code",
   "execution_count": 7,
   "id": "97370d3b-3571-40aa-9309-f8bb7c11bc9c",
   "metadata": {},
   "outputs": [
    {
     "data": {
      "text/plain": [
       "array(['US', 'None', nan, 'IT,US', 'US,TW', 'US,FR', 'US,IO', 'US,IL',\n",
       "       'GB,US', 'US,SG', 'CA,US', 'GR,US', 'CH,US', 'US,BR', 'LB,US',\n",
       "       'DE,US', 'ET,US', 'PH,US', 'NZ,US', 'RS,US', 'IE,US', 'NE,US',\n",
       "       'SY,US', 'US,UA', 'US,PR', 'DE', 'US,AU', 'AR,US', 'US,TR',\n",
       "       'US,MY', 'PK,US,GU', 'US,GY', 'US,DE', 'US,RS', 'US,PL', 'US,JP',\n",
       "       'US,GB', 'AU,US', 'MX,US', 'US,LB', 'EG,US', 'US,CO', 'US,AE',\n",
       "       'US,VE', 'US,FI', 'US,IT', 'TW,US', 'US,JE', 'US,ES', 'US,SE',\n",
       "       'US,HK', 'CN,US', 'US,IR', 'LT,US', 'US,BD', 'PS,US', 'DK,US',\n",
       "       'US,KR', 'US,LR', 'PK,US', 'NL,US', 'CA', 'US,CA', 'GB,ES', 'ES',\n",
       "       'IT', 'FR', 'FR,DE,GB,IT', 'FR,ES', 'GB,IT', 'FR,DE', 'GB',\n",
       "       'DE,ES', 'DE,GB', 'DE,IT', 'IT,ES', 'FR,GB', 'GB,IT,ES', 'FR,IT',\n",
       "       'DE,AT', 'US,CH', 'US,NO', 'US,BO', 'BE,US', 'AE,US', 'US,PF',\n",
       "       'US,SA', 'US,EG', 'US,PH', 'US,VN', 'US,PA', 'US,NE', 'US,ZA',\n",
       "       'US,ID', 'US,LT', 'US,HN', 'US,DK', 'IO,US', 'US,PT', 'BR',\n",
       "       'BR,US', 'BR,GT', 'BR,AU', 'BR,UY', 'BR,AR', 'BR,GB', 'BR,PT',\n",
       "       'BR,CH', 'US,AZ', 'US,CN', 'JE,US', 'US,AS', 'US,AI', 'SE',\n",
       "       'SE,US', 'SE,GB', 'US,HR', 'BR,DE', 'TR,DE', 'DE,GR', 'GB,DE',\n",
       "       'DE,CH', 'DK,DE', 'DE,LV', 'RS,DE', 'BE,DE', 'DE,NO', 'DE,NL',\n",
       "       'DE,TW', 'CA,DE', 'US,IN', 'US,IE', 'US,BE', 'AZ,US', 'IL,US',\n",
       "       'AS,US', 'BT,US', 'AI,US', 'FR,US', 'IN,US', 'GE,US', 'KR,US',\n",
       "       'DM,US', 'JP,US', 'NO,US', 'MW,US', 'BW,US', 'ES,US', 'VC,US',\n",
       "       'CO,US', 'FR,AU', 'FR,OM', 'BE,CA', 'GB,FR', 'US,VC', 'US,ET',\n",
       "       'NL', 'BE', 'PL', 'ZA,US', 'SA,US', 'ID,US', 'HN,US', 'US,MX',\n",
       "       'GB,NE', 'GB,IO', 'GB,ZW', 'GB,IE', 'GB,AU', 'GB,GR', 'CA,GB',\n",
       "       'OM,GB', 'GB,LB', 'GB,PK', 'GB,ZA', 'CZ', 'ZW,GB', 'CH,GB',\n",
       "       'GB,CA', 'TZ,GB', 'IT,GB', 'NE,GB', 'GB,AT', 'AU,GB', 'GB,NA',\n",
       "       'NL,GB', 'GB,SE', 'GB,CZ', 'GB,JP', 'GB,KR', 'GB,CH', 'GB,PT',\n",
       "       'GB,BE', 'CM,US', 'US,GR', 'US,PK', 'US,GH', 'US,NL', 'US,GB,TW',\n",
       "       'SE,DE', 'FR,SE,DE', 'FR,SE', 'AT,DE', 'AU,FR', 'GR,DE', 'CH,DE',\n",
       "       'CA,FR,DE', 'ES,DE', 'IO,SE,DE', 'US,GE', 'AT,SE,DE', 'IO,DE',\n",
       "       'TN,US', 'MX,IT', 'KH,US', 'BG,US', 'NO,DE', 'IT,DE', 'NL,DE',\n",
       "       'TW,DE', 'PT,DE', 'US,BT', 'PR,US', 'US,MW', 'US,KE', 'US,AR',\n",
       "       'US,QA', 'AE,CA,US', 'SG,US', 'GU,US', 'IR,US', 'AR,ES', 'US,JO',\n",
       "       'ZA,US,IL', 'LY,US', 'IN', 'GR', 'DZ', 'IE', 'KP', 'CN', 'IR',\n",
       "       'TH', 'JP', 'AT', 'TN', 'KR', 'DE,AU', 'SG', 'TR', 'SA,FR,IR',\n",
       "       'RU', 'AE', 'AE,GB', 'AU', 'TW', 'PT', 'IN,CN', 'DK', 'AR',\n",
       "       'PT,US', 'DE,US,NL,IL', 'CA,AT,AU', 'CH', 'KP,KR', 'SA', 'IL',\n",
       "       'IN,IO', 'AU,IL', 'HR', 'AT,US', 'CN,JP', 'HR,HK,AU', 'UA',\n",
       "       'IT,DE,AU', 'QA', 'DE,IE', 'AT,NL', 'CL', 'MX', 'SV', 'AT,US,DE',\n",
       "       'FR,DE,CH', 'PL,DE', 'HU,US', 'EG', 'HK', 'IS', 'US,DE,AU',\n",
       "       'ZA,GB', 'US,GB,AU', 'CN,KR', 'BR,ES', 'LU', 'KR,GB,BE', 'MY',\n",
       "       'ZA', 'CO,DK', 'FI,US', 'IT,US,DE', 'NZ,DE', 'CN,TW', 'FI',\n",
       "       'AT,CH', 'SE,NO', 'GH', 'VE', 'FR,CH', 'FR,LU', 'IE,AU',\n",
       "       'CN,US,TW', 'ES,SE', 'PL,US', 'NO', 'CN,FR', 'CN,CA', 'US,DE,SG',\n",
       "       'UA,US', 'PK', 'CZ,AT', 'BR,IT,ES', 'ES,GB', 'FR,IE', 'CH,AU',\n",
       "       'CN,BE', 'CA,AT', 'DE,ES,IT', 'CO', 'SI', 'VN', 'AR,US,IT', 'RS',\n",
       "       'NZ', 'SK', 'LT', 'BW', 'CZ,US', 'PE', 'ID', 'CR', 'HU', 'KW',\n",
       "       'RO', 'JO', 'GR,US,NL', 'CS', 'PT,ES', 'CL,US', 'US,AT', 'GE,GB',\n",
       "       'NO,GB', 'IT,BE', 'TH,US', 'KE,US', 'DE,BR', 'DE,PT', 'US,BM',\n",
       "       'BD,US', 'EE,US', 'US,BS', 'US,MK', 'US,NZ', 'US,MD', 'US,OM',\n",
       "       'KG,DE', 'SY,GB', 'BM,US', 'US,EE', 'US,CL', 'BH', 'DE,SG', 'NONE',\n",
       "       'DE,TH', 'DE,JP', 'DE,BE', 'US,KH', 'GH,US', 'HK,US', 'AU,NL',\n",
       "       'GB,UA', 'IL,AT', 'US,NL,FR', 'IT,NL', 'NG', 'IO,IN', 'CU', 'NP',\n",
       "       'AT,FR', 'IO', 'NO,CN'], dtype=object)"
      ]
     },
     "execution_count": 7,
     "metadata": {},
     "output_type": "execute_result"
    }
   ],
   "source": [
    "# Unique country values: we need to split them, also there are NaNs\n",
    "df.countries.unique()"
   ]
  },
  {
   "cell_type": "code",
   "execution_count": 8,
   "id": "a11230a3-043f-4e10-a9d2-e5b9d79be2b5",
   "metadata": {},
   "outputs": [
    {
     "data": {
      "text/plain": [
       "<AxesSubplot: ylabel='Frequency'>"
      ]
     },
     "execution_count": 8,
     "metadata": {},
     "output_type": "execute_result"
    },
    {
     "data": {
      "image/png": "[encoded data removed]",
      "text/plain": [
       "<Figure size 500x300 with 1 Axes>"
      ]
     },
     "metadata": {},
     "output_type": "display_data"
    }
   ],
   "source": [
    "# Ranking histogram\n",
    "df['search-ranking'].plot(kind='hist', figsize=(5,3))"
   ]
  },
  {
   "cell_type": "code",
   "execution_count": 9,
   "id": "79d186d5-735b-4a15-b837-6597195619ea",
   "metadata": {},
   "outputs": [
    {
     "data": {
      "text/plain": [
       "284"
      ]
     },
     "execution_count": 9,
     "metadata": {},
     "output_type": "execute_result"
    }
   ],
   "source": [
    "# We have 371804 entries, but only 284 unique search-ids\n",
    "len(df['search-id'].unique())"
   ]
  },
  {
   "cell_type": "code",
   "execution_count": 10,
   "id": "c0ca5a39-beb1-482e-91d2-69ad758a48c9",
   "metadata": {},
   "outputs": [
    {
     "data": {
      "text/plain": [
       "1000    70\n",
       "500     44\n",
       "2000    35\n",
       "300     25\n",
       "800     19\n",
       "4000    11\n",
       "3000    10\n",
       "1500    10\n",
       "100      8\n",
       "200      8\n",
       "5000     6\n",
       "600      5\n",
       "900      5\n",
       "2500     5\n",
       "50       5\n",
       "6000     4\n",
       "1        4\n",
       "400      4\n",
       "7000     2\n",
       "1400     1\n",
       "3500     1\n",
       "700      1\n",
       "250      1\n",
       "Name: search-ranking, dtype: int64"
      ]
     },
     "execution_count": 10,
     "metadata": {},
     "output_type": "execute_result"
    }
   ],
   "source": [
    "# Each search has a number of ranking results, probably manually defined\n",
    "# The following list shows how many times each number of ranking results appears\n",
    "# E.g., a ranking list of length 1000 was the most common and appears in 70 searches\n",
    "# a ranking list of length 250 is the least common and appears in 1 search\n",
    "df.groupby('search-id')['search-ranking'].max().value_counts()"
   ]
  },
  {
   "cell_type": "code",
   "execution_count": 11,
   "id": "5079dbd5-c784-4b56-92dc-732ed4bc83a4",
   "metadata": {},
   "outputs": [
    {
     "data": {
      "text/plain": [
       "43543"
      ]
     },
     "execution_count": 11,
     "metadata": {},
     "output_type": "execute_result"
    }
   ],
   "source": [
    "# Unique email domains: as with countries, we need to split them \n",
    "len(df['email-domains'].unique())"
   ]
  },
  {
   "cell_type": "code",
   "execution_count": 12,
   "id": "33297855-2650-4ef8-9e2d-94816cb600ae",
   "metadata": {},
   "outputs": [
    {
     "data": {
      "text/plain": [
       "167109"
      ]
     },
     "execution_count": 12,
     "metadata": {},
     "output_type": "execute_result"
    }
   ],
   "source": [
    "# We have 371804 entries, but only 167109 unique person-ids\n",
    "len(df['person-id'].unique())"
   ]
  },
  {
   "cell_type": "code",
   "execution_count": 13,
   "id": "640ca842-35ea-45a7-a1b5-6b89bbc0100d",
   "metadata": {},
   "outputs": [
    {
     "data": {
      "text/plain": [
       "284"
      ]
     },
     "execution_count": 13,
     "metadata": {},
     "output_type": "execute_result"
    }
   ],
   "source": [
    "# We have 284 timestamps\n",
    "len(df['timestamp'].unique())"
   ]
  },
  {
   "cell_type": "code",
   "execution_count": 14,
   "id": "4b186d01-8038-4a50-9092-e4c6235580e2",
   "metadata": {},
   "outputs": [
    {
     "data": {
      "text/plain": [
       "284"
      ]
     },
     "execution_count": 14,
     "metadata": {},
     "output_type": "execute_result"
    }
   ],
   "source": [
    "# Each timestamp is related to a search-id\n",
    "df.groupby('search-id')['timestamp'].nunique().sum()"
   ]
  },
  {
   "cell_type": "code",
   "execution_count": 15,
   "id": "57e32dca-f9b2-425f-a0a7-a7a1576f2092",
   "metadata": {},
   "outputs": [
    {
     "name": "stdout",
     "output_type": "stream",
     "text": [
      "0    370270\n",
      "1      1534\n",
      "Name: outreach-success, dtype: int64\n",
      "\n",
      "Outreach-success ratio: 0.004125829738249185\n"
     ]
    }
   ],
   "source": [
    "# Outreach success rate: 0.4%\n",
    "success = df['outreach-success'].value_counts()\n",
    "print(success)\n",
    "print(f\"\\nOutreach-success ratio: {success[1]/df.shape[0]}\")"
   ]
  },
  {
   "cell_type": "code",
   "execution_count": 16,
   "id": "fc035b9e-4cd4-4e84-8e5a-83059cd137a6",
   "metadata": {},
   "outputs": [
    {
     "data": {
      "text/plain": [
       "<AxesSubplot: ylabel='Frequency'>"
      ]
     },
     "execution_count": 16,
     "metadata": {},
     "output_type": "execute_result"
    },
    {
     "data": {
      "image/png": "[encoded data removed]",
      "text/plain": [
       "<Figure size 1000x300 with 1 Axes>"
      ]
     },
     "metadata": {},
     "output_type": "display_data"
    }
   ],
   "source": [
    "# For positive responses, which is the ranking distirbution?\n",
    "# As expected, there are more high ranking values in positive responses: we have an exponential decaying distribution.\n",
    "df[df['outreach-success'] == 1]['search-ranking'].plot(kind='hist', bins=100, figsize=(10,3))"
   ]
  },
  {
   "cell_type": "markdown",
   "id": "4caf9594-dd0c-48ef-9488-c70516941a07",
   "metadata": {},
   "source": [
    "### 1.1 First Exposure: Findings and Next Steps\n",
    "\n",
    "Summary od findings:\n",
    "\n",
    "- Countries and emails have NAs, 11 entries are affected. Additionally, some NAs are encoded as strings ('None', 'NONE').\n",
    "- We have 371804 entries, but only 167109 unique person-ids.\n",
    "- We have 371804 entries, but only 284 unique search-ids, which have their own timestamp; the search-id could be probably dropped, since the timestamp might contain its category information and additional time information (month, etc.).\n",
    "- Search outcome/ranking lenths vary from 1 to 7000; a ranking length 1000 is the most common, 250 the least common. \n",
    "- The current `outreach-success` rate is 0.4%; the dataset is very imbalanced, particularly, if `outreach-success` is used as target. \n",
    "- As expected, there are more high ranking values in positive responses: we have an exponential decaying distribution.\n",
    "\n",
    "Questions:\n",
    "\n",
    "- How is ranking determined?\n",
    "- Could we get more information about expert candidates? E.g., years of experience, number of companies they've worked in, whether they've done conosulting or not, etc.\n",
    "- Are there candidates who don't respond in the initial contact(s) (outreach-success 0), but they end up responding? Which are their features? I can imagine there's a technical term for those candidates...\n",
    "\n",
    "Next steps:\n",
    "\n",
    "- Drop NAs.\n",
    "- Countries and emails need to be split into categories; seems easy, because text appears to be quite clean.\n",
    "- Process timestamp.\n",
    "- Reduce dataset to a single entry per expert.\n",
    "\n",
    "Extra points:\n",
    "\n",
    "- Maybe the number of countries/emails a person has is relevant (feature engineering)."
   ]
  },
  {
   "cell_type": "markdown",
   "id": "8627eeb5-594e-4796-8952-ecaeb29901ad",
   "metadata": {},
   "source": [
    "## 2. Data Preprocessing, Cleaning and Basic Feature Engineering"
   ]
  },
  {
   "cell_type": "markdown",
   "id": "043ab8d0-8e84-4c88-884d-6eb5cb324780",
   "metadata": {},
   "source": [
    "Goals:\n",
    "\n",
    "- Drop NAs.\n",
    "- Countries and emails need to be split into categories; analyze \n",
    "- Process timestamp.\n",
    "- Reduce dataset to a single entry per expert.\n"
   ]
  },
  {
   "cell_type": "code",
   "execution_count": 17,
   "id": "e72775c3-d3eb-48c5-bc48-7e4bc4fae700",
   "metadata": {},
   "outputs": [],
   "source": [
    "df_org = df.copy()"
   ]
  },
  {
   "cell_type": "markdown",
   "id": "a55029be-0755-4819-ae77-f6057c3118fe",
   "metadata": {},
   "source": [
    "### 2.1 Drop NAs"
   ]
  },
  {
   "cell_type": "code",
   "execution_count": 18,
   "id": "40e0fd48-4eee-4f1e-9289-a2a04c2a3c13",
   "metadata": {},
   "outputs": [],
   "source": [
    "# Some countries entries have values None and NONE -> we need to encode them correctly\n",
    "df['countries'].replace({'None': None, 'NONE': None}, inplace=True)\n",
    "# The same happens with emails\n",
    "df['email-domains'].replace({'None': None}, inplace=True)"
   ]
  },
  {
   "cell_type": "code",
   "execution_count": 19,
   "id": "84cb4800-5137-46df-9d84-74d2fd6ccd59",
   "metadata": {},
   "outputs": [
    {
     "data": {
      "text/html": [
       "<div>\n",
       "<style scoped>\n",
       "    .dataframe tbody tr th:only-of-type {\n",
       "        vertical-align: middle;\n",
       "    }\n",
       "\n",
       "    .dataframe tbody tr th {\n",
       "        vertical-align: top;\n",
       "    }\n",
       "\n",
       "    .dataframe thead th {\n",
       "        text-align: right;\n",
       "    }\n",
       "</style>\n",
       "<table border=\"1\" class=\"dataframe\">\n",
       "  <thead>\n",
       "    <tr style=\"text-align: right;\">\n",
       "      <th></th>\n",
       "      <th>person-id</th>\n",
       "      <th>timestamp</th>\n",
       "      <th>search-id</th>\n",
       "      <th>search-ranking</th>\n",
       "      <th>countries</th>\n",
       "      <th>email-domains</th>\n",
       "      <th>outreach-success</th>\n",
       "    </tr>\n",
       "  </thead>\n",
       "  <tbody>\n",
       "    <tr>\n",
       "      <th>0</th>\n",
       "      <td>93033378-8207-4c9f-bfa5-95b520f7c760</td>\n",
       "      <td>2021-05-26T14:31:54.307000</td>\n",
       "      <td>a6380bba-b203-48dc-bbd6-5cb58b12ee07</td>\n",
       "      <td>1</td>\n",
       "      <td>US</td>\n",
       "      <td>ub.edu</td>\n",
       "      <td>0</td>\n",
       "    </tr>\n",
       "    <tr>\n",
       "      <th>1</th>\n",
       "      <td>18a3bd6b-5665-4f08-aae4-66f2219100b3</td>\n",
       "      <td>2021-05-26T14:31:54.307000</td>\n",
       "      <td>a6380bba-b203-48dc-bbd6-5cb58b12ee07</td>\n",
       "      <td>2</td>\n",
       "      <td>US</td>\n",
       "      <td>bcm.edu</td>\n",
       "      <td>0</td>\n",
       "    </tr>\n",
       "    <tr>\n",
       "      <th>2</th>\n",
       "      <td>21e9d97a-0940-4fcf-825a-e4a118d01b1b</td>\n",
       "      <td>2021-05-26T14:31:54.307000</td>\n",
       "      <td>a6380bba-b203-48dc-bbd6-5cb58b12ee07</td>\n",
       "      <td>3</td>\n",
       "      <td>US</td>\n",
       "      <td>nemours.org</td>\n",
       "      <td>0</td>\n",
       "    </tr>\n",
       "    <tr>\n",
       "      <th>3</th>\n",
       "      <td>aUlZWRzbXY7Ev5VCWo8Zag_0000</td>\n",
       "      <td>2021-05-26T14:31:54.307000</td>\n",
       "      <td>a6380bba-b203-48dc-bbd6-5cb58b12ee07</td>\n",
       "      <td>4</td>\n",
       "      <td>US</td>\n",
       "      <td>mssm.edu,sangabrieleye.com,usc.edu</td>\n",
       "      <td>0</td>\n",
       "    </tr>\n",
       "    <tr>\n",
       "      <th>4</th>\n",
       "      <td>2e23c461-d817-4d6c-af0b-b3567e63b878</td>\n",
       "      <td>2021-05-26T14:31:54.307000</td>\n",
       "      <td>a6380bba-b203-48dc-bbd6-5cb58b12ee07</td>\n",
       "      <td>5</td>\n",
       "      <td>US</td>\n",
       "      <td>ucsf.edu,virginia.edu</td>\n",
       "      <td>0</td>\n",
       "    </tr>\n",
       "  </tbody>\n",
       "</table>\n",
       "</div>"
      ],
      "text/plain": [
       "                              person-id                   timestamp  \\\n",
       "0  93033378-8207-4c9f-bfa5-95b520f7c760  2021-05-26T14:31:54.307000   \n",
       "1  18a3bd6b-5665-4f08-aae4-66f2219100b3  2021-05-26T14:31:54.307000   \n",
       "2  21e9d97a-0940-4fcf-825a-e4a118d01b1b  2021-05-26T14:31:54.307000   \n",
       "3           aUlZWRzbXY7Ev5VCWo8Zag_0000  2021-05-26T14:31:54.307000   \n",
       "4  2e23c461-d817-4d6c-af0b-b3567e63b878  2021-05-26T14:31:54.307000   \n",
       "\n",
       "                              search-id  search-ranking countries  \\\n",
       "0  a6380bba-b203-48dc-bbd6-5cb58b12ee07               1        US   \n",
       "1  a6380bba-b203-48dc-bbd6-5cb58b12ee07               2        US   \n",
       "2  a6380bba-b203-48dc-bbd6-5cb58b12ee07               3        US   \n",
       "3  a6380bba-b203-48dc-bbd6-5cb58b12ee07               4        US   \n",
       "4  a6380bba-b203-48dc-bbd6-5cb58b12ee07               5        US   \n",
       "\n",
       "                        email-domains  outreach-success  \n",
       "0                              ub.edu                 0  \n",
       "1                             bcm.edu                 0  \n",
       "2                         nemours.org                 0  \n",
       "3  mssm.edu,sangabrieleye.com,usc.edu                 0  \n",
       "4               ucsf.edu,virginia.edu                 0  "
      ]
     },
     "execution_count": 19,
     "metadata": {},
     "output_type": "execute_result"
    }
   ],
   "source": [
    "# We can safely remove the NAs, because they affect to only 11 entries\n",
    "# and they appear in the features that I assume to be most predictive: country and email-domain\n",
    "# Also I remove duplicates, autmatically, but there seem to be no duplicates.\n",
    "df = df.dropna()\n",
    "df = df.drop_duplicates().reset_index(drop=True)\n",
    "df.head()"
   ]
  },
  {
   "cell_type": "code",
   "execution_count": 20,
   "id": "25e5cb2d-6ba9-443f-a109-3023ec3b9d74",
   "metadata": {},
   "outputs": [
    {
     "data": {
      "text/plain": [
       "(371772, 7)"
      ]
     },
     "execution_count": 20,
     "metadata": {},
     "output_type": "execute_result"
    }
   ],
   "source": [
    "# New number of entries: 371790\n",
    "df.shape"
   ]
  },
  {
   "cell_type": "markdown",
   "id": "db269972-b36a-49bb-8509-c16fbe9c6de7",
   "metadata": {},
   "source": [
    "### 2.2 Process Countries and Emails"
   ]
  },
  {
   "cell_type": "code",
   "execution_count": 21,
   "id": "ad549ed1-623b-4734-b2f4-e07ea6b6c054",
   "metadata": {},
   "outputs": [],
   "source": [
    "# Split function\n",
    "def get_categories(df, column, sep=','):\n",
    "    \"\"\"Given a dataframe and a column,\n",
    "    split the strings in column to get all possible\n",
    "    categories.\n",
    "    \n",
    "    Arguments:\n",
    "        df: dataframe\n",
    "        sep: separatr used during splitting\n",
    "    Returns:\n",
    "        column: column to apply split to\n",
    "    \"\"\"\n",
    "    categories = set()\n",
    "    for row in df[column]:\n",
    "        category_list = row.split(sep)\n",
    "        for c in category_list:\n",
    "            categories.add(c)\n",
    "    \n",
    "    return categories"
   ]
  },
  {
   "cell_type": "code",
   "execution_count": 22,
   "id": "1f15b7c9-24b8-48bb-8e6b-08975bfefc41",
   "metadata": {},
   "outputs": [],
   "source": [
    "# Countries\n",
    "countries = get_categories(df, 'countries')\n",
    "#list(countries)"
   ]
  },
  {
   "cell_type": "code",
   "execution_count": 23,
   "id": "0bd9ad08-28c6-4c3f-8afe-9de980a41c1a",
   "metadata": {},
   "outputs": [
    {
     "data": {
      "text/plain": [
       "117"
      ]
     },
     "execution_count": 23,
     "metadata": {},
     "output_type": "execute_result"
    }
   ],
   "source": [
    "# 117 possible countries: we can encode them as dummy variables\n",
    "len(countries)"
   ]
  },
  {
   "cell_type": "code",
   "execution_count": 24,
   "id": "e7465eb1-2eda-440e-a394-5477582aab95",
   "metadata": {},
   "outputs": [
    {
     "data": {
      "text/plain": [
       "['AE', 'AI', 'AR', 'AS', 'AT', 'AU', 'AZ', 'BD', 'BE', 'BG']"
      ]
     },
     "execution_count": 24,
     "metadata": {},
     "output_type": "execute_result"
    }
   ],
   "source": [
    "sorted(list(countries))[:10]"
   ]
  },
  {
   "cell_type": "code",
   "execution_count": 25,
   "id": "0b453d6c-6ef5-4401-8b49-abb5181e023b",
   "metadata": {},
   "outputs": [],
   "source": [
    "# Emails\n",
    "emails = get_categories(df, 'email-domains')"
   ]
  },
  {
   "cell_type": "code",
   "execution_count": 26,
   "id": "64c26f01-208b-479c-8620-927d3d4264a1",
   "metadata": {},
   "outputs": [
    {
     "data": {
      "text/plain": [
       "20355"
      ]
     },
     "execution_count": 26,
     "metadata": {},
     "output_type": "execute_result"
    }
   ],
   "source": [
    "# There are maybe too many unique emails (20355) to encode them as dummy variables\n",
    "# and use them effectively.\n",
    "# Probably, we need to compress the information:\n",
    "# - discipline: oncology, pediatrics, etc.\n",
    "# - size of institution: small (<50), medium (50-150), large (>150)\n",
    "# - type of center: university, research center, hospital/clinic, company\n",
    "# - ...\n",
    "len(emails)"
   ]
  },
  {
   "cell_type": "code",
   "execution_count": 27,
   "id": "c1e9dcca-a033-4f79-bbe8-299dccd328cf",
   "metadata": {},
   "outputs": [
    {
     "data": {
      "text/plain": [
       "['pimc.ihs.gov',\n",
       " 'klinikum-krefeld.de',\n",
       " 'cantonmercy.org',\n",
       " 'cesmpt.ccf.org',\n",
       " 'bwh.havard.edu',\n",
       " 'sergas.es',\n",
       " 'iktz-hd.de',\n",
       " 'voiceinstituteny.com',\n",
       " 'rngen.com',\n",
       " 'chaos.ph.utexas.edu',\n",
       " 'tpg-group.com',\n",
       " 'gmiho.de',\n",
       " 'humanitariansurgery.org',\n",
       " 'produktqualitaet.com',\n",
       " 'unat.com',\n",
       " 'bmtga.com',\n",
       " 'ch-stquentin.mssante.fr',\n",
       " 'eerp.usp.br',\n",
       " 'oncolink.com',\n",
       " 'etse.urv.es',\n",
       " 'eurand.com',\n",
       " 'vivacell.de',\n",
       " 'oncomed.com',\n",
       " 'physci.ucla.edu',\n",
       " 'projhope.org',\n",
       " 'simson.org',\n",
       " 'medicalschool-berlin.de',\n",
       " 'mst1.ukl.uni-freiburg.de',\n",
       " 'sharmilachatterjee.com',\n",
       " 'dovpharm.com',\n",
       " 'wideopenroad.com',\n",
       " 'kingcounty.gov',\n",
       " 'mathematik.uni-oldenburg.de',\n",
       " 'cableinet.co.uk',\n",
       " 'marycrowley.org',\n",
       " 'vetagro-sup.fr',\n",
       " 'neuro.gu.se',\n",
       " 'mailnih.gov',\n",
       " 'raphaelsklinik.de',\n",
       " 'allergyoftherockies.com',\n",
       " 'adpc.mssante.fr',\n",
       " 'ulssvicenza.it',\n",
       " 'libragen.com',\n",
       " 'jcvi.org',\n",
       " 'gwpo.ynhh.com',\n",
       " 'newcastle.edu',\n",
       " 'providencesb.org',\n",
       " 'onco.uni-kiel.de',\n",
       " 'nemushealth.com',\n",
       " 'sgh.com.sg',\n",
       " 'unsw.edu.au',\n",
       " 'mclean.harvard.edu',\n",
       " 'positron.com',\n",
       " 'abdulazim.de',\n",
       " 'nmcsd.med.navy.mil',\n",
       " 'fs4.de',\n",
       " 'neuropsych.rwth-aachen.de',\n",
       " 'viaresearch.net',\n",
       " 'museum.tulane.edu',\n",
       " 'lmc.ca',\n",
       " 'uea.ac.uk',\n",
       " 'inbio.com',\n",
       " 'hunter.cuny.edu',\n",
       " 'wallacemedical.com',\n",
       " 'sisterstogetherandreaching.org',\n",
       " 'diavero.de',\n",
       " 'hpi.uni-hamburg.de',\n",
       " 'augen.ma.uni-heidelberg.de',\n",
       " 'retinasurgeons.com',\n",
       " 'santpau.cat',\n",
       " 'spinemd.com',\n",
       " 'eecs.berkeley.edu',\n",
       " 'brch.com',\n",
       " 'vbg.de',\n",
       " 'werfen.com',\n",
       " 'mx.afrri.usuhs.mil',\n",
       " 'mva.me',\n",
       " 'aovr.veneto.it',\n",
       " 'ull.es',\n",
       " 'emory.edu',\n",
       " 'pbhealth.org',\n",
       " 'fh-dortmund.de',\n",
       " 'hsh.health.state.hi',\n",
       " 'iwu.fraunhofer.de',\n",
       " 'duanemorris.com',\n",
       " 'ju.se',\n",
       " 'podiatricrx.co.uk',\n",
       " 'arianapharma.com',\n",
       " 'psych.gatech.edu',\n",
       " 'compass-group.es',\n",
       " 'fpscience.it',\n",
       " 'wvt.nhs.uk',\n",
       " 'neurochem.u-strasbg.fr',\n",
       " 'transfusion.unikiel.de',\n",
       " 'grattderm.com',\n",
       " 'nrgn.com',\n",
       " 'inivata.com',\n",
       " 'taro.com',\n",
       " 'uq.net.au',\n",
       " 'wihri.org']"
      ]
     },
     "execution_count": 27,
     "metadata": {},
     "output_type": "execute_result"
    }
   ],
   "source": [
    "list(emails)[:100]"
   ]
  },
  {
   "cell_type": "code",
   "execution_count": 28,
   "id": "b4ca9f47-8963-49a4-8f73-1df0dd3ffe63",
   "metadata": {},
   "outputs": [],
   "source": [
    "def encode_categories(df, column, categories, sep=',', dummy=True):\n",
    "    \"\"\"Count the number of categories in a colum\n",
    "    and perfom manual one-hot encoding if so specified.\n",
    "    \n",
    "    Arguments:\n",
    "        df: data frame\n",
    "        column: column to analyze\n",
    "        categories: pre-computed categories from column\n",
    "            to be counted and encoded\n",
    "        sep: separator\n",
    "        dummy: whether one-hot encoding needs to be carried out\n",
    "    Returns:\n",
    "        df_column: data frame with counts and, optionally, encoded categories\n",
    "        cat2index: :dictionary which maps a category with an index\n",
    "    \"\"\"\n",
    "    categories_list = sorted(list(categories))\n",
    "    num_categories = len(categories_list)\n",
    "    cat2index = {k:v for v,k in enumerate(categories_list)}\n",
    "    if dummy:\n",
    "        column_names = [column+'_'+cat for cat in categories_list]\n",
    "        column_names.append('num_'+column)\n",
    "        data = np.zeros((df.shape[0], num_categories+1))\n",
    "    else:\n",
    "        column_names = ['num_'+column]\n",
    "        data = np.zeros((df.shape[0], 1))\n",
    "    for i, row in enumerate(df[column]):\n",
    "        category_list = row.split(sep)\n",
    "        data[i, -1] = len(category_list)\n",
    "        if dummy:\n",
    "            for c in category_list:\n",
    "                data[i, cat2index[c]] += 1\n",
    "    df_column = pd.DataFrame(data, columns=column_names)\n",
    "    \n",
    "    return df_column, cat2index"
   ]
  },
  {
   "cell_type": "code",
   "execution_count": 29,
   "id": "fcf7658d-5870-4d9a-bbc8-3575c5c8c356",
   "metadata": {},
   "outputs": [],
   "source": [
    "column = 'countries'\n",
    "categories = countries\n",
    "df_country, country_cat2index = encode_categories(df, column, categories)"
   ]
  },
  {
   "cell_type": "code",
   "execution_count": 30,
   "id": "28bd87ec-30b0-405e-a08a-b30461434e12",
   "metadata": {},
   "outputs": [
    {
     "data": {
      "text/plain": [
       "<AxesSubplot: ylabel='Frequency'>"
      ]
     },
     "execution_count": 30,
     "metadata": {},
     "output_type": "execute_result"
    },
    {
     "data": {
      "image/png": "[encoded data removed]",
      "text/plain": [
       "<Figure size 500x300 with 1 Axes>"
      ]
     },
     "metadata": {},
     "output_type": "display_data"
    }
   ],
   "source": [
    "# Most entries have a unique country\n",
    "df_country['num_countries'].plot(kind='hist', bins=10, figsize=(5,3))"
   ]
  },
  {
   "cell_type": "code",
   "execution_count": 31,
   "id": "b9078912-c02a-4238-845c-5ad5770fa0ea",
   "metadata": {},
   "outputs": [
    {
     "data": {
      "text/plain": [
       "count    371772.000000\n",
       "mean          1.007478\n",
       "std           0.087451\n",
       "min           1.000000\n",
       "25%           1.000000\n",
       "50%           1.000000\n",
       "75%           1.000000\n",
       "max           4.000000\n",
       "Name: num_countries, dtype: float64"
      ]
     },
     "execution_count": 31,
     "metadata": {},
     "output_type": "execute_result"
    }
   ],
   "source": [
    "df_country['num_countries'].describe()"
   ]
  },
  {
   "cell_type": "code",
   "execution_count": 32,
   "id": "b6912bc3-7931-4e01-a55d-7f8ea4da7725",
   "metadata": {},
   "outputs": [],
   "source": [
    "column = 'email-domains'\n",
    "categories = emails\n",
    "df_emails, email_cat2index = encode_categories(df, column, categories, sep=',', dummy=False)"
   ]
  },
  {
   "cell_type": "code",
   "execution_count": 33,
   "id": "01404726-3ada-4df1-a7e7-e140e1d80ac0",
   "metadata": {},
   "outputs": [
    {
     "data": {
      "text/plain": [
       "<AxesSubplot: ylabel='Frequency'>"
      ]
     },
     "execution_count": 33,
     "metadata": {},
     "output_type": "execute_result"
    },
    {
     "data": {
      "image/png": "[encoded data removed]",
      "text/plain": [
       "<Figure size 500x300 with 1 Axes>"
      ]
     },
     "metadata": {},
     "output_type": "display_data"
    }
   ],
   "source": [
    "# The number of emails follows an exponential distribution; most entries have one email \n",
    "df_emails['num_email-domains'].plot(kind='hist', figsize=(5,3), bins=50)"
   ]
  },
  {
   "cell_type": "code",
   "execution_count": 34,
   "id": "a8e5abf6-96e4-47ba-8911-03fb683271b6",
   "metadata": {},
   "outputs": [
    {
     "data": {
      "text/plain": [
       "count    371772.000000\n",
       "mean          1.251910\n",
       "std           0.664871\n",
       "min           1.000000\n",
       "25%           1.000000\n",
       "50%           1.000000\n",
       "75%           1.000000\n",
       "max          22.000000\n",
       "Name: num_email-domains, dtype: float64"
      ]
     },
     "execution_count": 34,
     "metadata": {},
     "output_type": "execute_result"
    }
   ],
   "source": [
    "df_emails['num_email-domains'].describe()"
   ]
  },
  {
   "cell_type": "code",
   "execution_count": 35,
   "id": "9086b853-dd1f-4025-bc9c-f522c2d708d7",
   "metadata": {},
   "outputs": [],
   "source": [
    "# Analyze email extensions\n",
    "email_extensions = set()\n",
    "for e in emails:\n",
    "    email_extensions.add(e.split('.')[-1])"
   ]
  },
  {
   "cell_type": "code",
   "execution_count": 36,
   "id": "ec4c1dc7-2d3e-43af-b477-332677fb6dca",
   "metadata": {},
   "outputs": [
    {
     "data": {
      "text/plain": [
       "226"
      ]
     },
     "execution_count": 36,
     "metadata": {},
     "output_type": "execute_result"
    }
   ],
   "source": [
    "len(email_extensions)"
   ]
  },
  {
   "cell_type": "code",
   "execution_count": 37,
   "id": "7e1545a1-f278-4eb4-82e2-12508c734835",
   "metadata": {},
   "outputs": [
    {
     "data": {
      "text/plain": [
       "{'  ',\n",
       " '#NAME?',\n",
       " '1',\n",
       " '6926c7fd-4f7e-49b5-9b0d-e128cead2a3f',\n",
       " 'GFHK',\n",
       " 'None',\n",
       " 'ac',\n",
       " 'ae',\n",
       " 'amc',\n",
       " 'an',\n",
       " 'ap',\n",
       " 'ar',\n",
       " 'at',\n",
       " 'att',\n",
       " 'au',\n",
       " 'be',\n",
       " 'berk',\n",
       " 'bg',\n",
       " 'bh',\n",
       " 'bio',\n",
       " 'biz',\n",
       " 'boston',\n",
       " 'br',\n",
       " 'bw',\n",
       " 'ca',\n",
       " 'care',\n",
       " 'cat',\n",
       " 'cc',\n",
       " 'ch',\n",
       " 'chop',\n",
       " 'chu',\n",
       " 'cl',\n",
       " 'cn',\n",
       " 'co',\n",
       " 'coh',\n",
       " 'com',\n",
       " 'coma',\n",
       " 'comb',\n",
       " 'comh',\n",
       " 'coms',\n",
       " 'comw',\n",
       " 'con',\n",
       " 'cr',\n",
       " 'cu',\n",
       " 'cwru',\n",
       " 'cy',\n",
       " 'cz',\n",
       " 'de',\n",
       " 'dea',\n",
       " 'dede',\n",
       " 'deht',\n",
       " 'der',\n",
       " 'dera',\n",
       " 'des',\n",
       " 'dk',\n",
       " 'domain',\n",
       " 'du',\n",
       " 'due',\n",
       " 'ea',\n",
       " 'ecdu',\n",
       " 'ed',\n",
       " 'eda',\n",
       " 'edi',\n",
       " 'edn',\n",
       " 'edo',\n",
       " 'edu',\n",
       " 'edua',\n",
       " 'educ',\n",
       " 'edud',\n",
       " 'eduf',\n",
       " 'eduh',\n",
       " 'edul',\n",
       " 'edum',\n",
       " 'eduq',\n",
       " 'edur',\n",
       " 'eduu',\n",
       " 'edy',\n",
       " 'eedu',\n",
       " 'eg',\n",
       " 'es',\n",
       " 'esn',\n",
       " 'espa',\n",
       " 'etc',\n",
       " 'eu',\n",
       " 'eud',\n",
       " 'eus',\n",
       " 'ewdu',\n",
       " 'expert',\n",
       " 'ext',\n",
       " 'eye',\n",
       " 'fa',\n",
       " 'fi',\n",
       " 'fm',\n",
       " 'fr',\n",
       " 'gg',\n",
       " 'gh',\n",
       " 'gmail',\n",
       " 'go',\n",
       " 'gonz',\n",
       " 'gov',\n",
       " 'gr',\n",
       " 'gwu',\n",
       " 'hagl',\n",
       " 'harv',\n",
       " 'hi',\n",
       " 'hk',\n",
       " 'hotmail',\n",
       " 'hr',\n",
       " 'hu',\n",
       " 'i',\n",
       " 'id',\n",
       " 'ie',\n",
       " 'il',\n",
       " 'in',\n",
       " 'info',\n",
       " 'int',\n",
       " 'io',\n",
       " 'ir',\n",
       " 'is',\n",
       " 'it',\n",
       " 'itht',\n",
       " 'jnj',\n",
       " 'jo',\n",
       " 'jp',\n",
       " 'kr',\n",
       " 'kw',\n",
       " 'la',\n",
       " 'lb',\n",
       " 'li',\n",
       " 'life',\n",
       " 'london',\n",
       " 'lt',\n",
       " 'lths',\n",
       " 'lu',\n",
       " 'lv',\n",
       " 'madr',\n",
       " 'mari',\n",
       " 'mayo',\n",
       " 'md',\n",
       " 'me',\n",
       " 'meds',\n",
       " 'mgh',\n",
       " 'mi',\n",
       " 'mil',\n",
       " 'mila',\n",
       " 'mo',\n",
       " 'ms',\n",
       " 'mt',\n",
       " 'mx',\n",
       " 'my',\n",
       " 'name',\n",
       " 'ncsc',\n",
       " 'ne',\n",
       " 'net',\n",
       " 'ng',\n",
       " 'nhs',\n",
       " 'nhsu',\n",
       " 'nl',\n",
       " 'no',\n",
       " 'nyc',\n",
       " 'nz',\n",
       " 'og',\n",
       " 'ohio',\n",
       " 'or',\n",
       " 'ord',\n",
       " 'org',\n",
       " 'orgm',\n",
       " 'orgorg',\n",
       " 'ort',\n",
       " 'paris',\n",
       " 'pe',\n",
       " 'pk',\n",
       " 'pl',\n",
       " 'ppdi',\n",
       " 'pt',\n",
       " 'qa',\n",
       " 'qwerty',\n",
       " 'ro',\n",
       " 'roch',\n",
       " 'rog',\n",
       " 'rs',\n",
       " 'ru',\n",
       " 'sa',\n",
       " 'scie',\n",
       " 'scot',\n",
       " 'se',\n",
       " 'ses',\n",
       " 'set',\n",
       " 'sg',\n",
       " 'si',\n",
       " 'sk',\n",
       " 'sv',\n",
       " 'tel',\n",
       " 'th',\n",
       " 'tju',\n",
       " 'tn',\n",
       " 'to',\n",
       " 'tr',\n",
       " 'tw',\n",
       " 'u',\n",
       " 'ua',\n",
       " 'uab',\n",
       " 'uchi',\n",
       " 'ude',\n",
       " 'udu',\n",
       " 'uk',\n",
       " 'ul',\n",
       " 'umar',\n",
       " 'umsm',\n",
       " 'uni',\n",
       " 'unip',\n",
       " 'univ',\n",
       " 'unm',\n",
       " 'upen',\n",
       " 'ur',\n",
       " 'us',\n",
       " 'usa',\n",
       " 'utah',\n",
       " 'vand',\n",
       " 'vet',\n",
       " 'vn',\n",
       " 'vv',\n",
       " 'wale',\n",
       " 'ws',\n",
       " 'yu',\n",
       " 'za'}"
      ]
     },
     "execution_count": 37,
     "metadata": {},
     "output_type": "execute_result"
    }
   ],
   "source": [
    "email_extensions"
   ]
  },
  {
   "cell_type": "code",
   "execution_count": 38,
   "id": "cae6602e-b611-4321-8483-10b105e6cab9",
   "metadata": {},
   "outputs": [
    {
     "name": "stdout",
     "output_type": "stream",
     "text": [
      "Number of manually classified extensions: 98 vs 226\n"
     ]
    }
   ],
   "source": [
    "# Manual encoding of email extension classes\n",
    "extension_academia = [\n",
    "    'ac',\n",
    "    'edu',\n",
    "    'univ'\n",
    "]\n",
    "\n",
    "extension_country = [\n",
    "    'ae',\n",
    "    'an',\n",
    "    'ap',\n",
    "    'ar',\n",
    "    'at',\n",
    "    'au',\n",
    "    'be',\n",
    "    'bg',\n",
    "    'bh',\n",
    "    'br',\n",
    "    'bw',\n",
    "    'ca',\n",
    "    'cat',\n",
    "    'cc',\n",
    "    'ch',\n",
    "    'cl',\n",
    "    'cn',\n",
    "    'co',\n",
    "    'cr',\n",
    "    'cu',\n",
    "    'cy',\n",
    "    'cz',\n",
    "    'de',\n",
    "    'dk',\n",
    "    'es',\n",
    "    'eus',\n",
    "    'fi',\n",
    "    'fm',\n",
    "    'fr',\n",
    "    'gg',\n",
    "    'gh',\n",
    "    'gr',\n",
    "    'hk',\n",
    "    'hr',\n",
    "    'hu',\n",
    "    'ie',\n",
    "    'il',\n",
    "    'in',\n",
    "    'ir',\n",
    "    'is',\n",
    "    'jo',\n",
    "    'jp',\n",
    "    'kr',\n",
    "    'lb',\n",
    "    'li',\n",
    "    'lt',\n",
    "    'lu',\n",
    "    'lv',\n",
    "    'me',\n",
    "    'mo',\n",
    "    'mt',\n",
    "    'mx',\n",
    "    'ne',\n",
    "    'ng',\n",
    "    'nl',\n",
    "    'no',\n",
    "    'nz',\n",
    "    'pe',\n",
    "    'pk',\n",
    "    'pl',\n",
    "    'pt',\n",
    "    'ro',\n",
    "    'rs',\n",
    "    'ru',\n",
    "    'sa',\n",
    "    'se',\n",
    "    'sg',\n",
    "    'si',\n",
    "    'sk',\n",
    "    'sv',\n",
    "    'th',\n",
    "    'tr',\n",
    "    'tw',\n",
    "    'ua',\n",
    "    'uk',\n",
    "    'vn',\n",
    "    'ws',\n",
    "    'za',\n",
    "    'us'\n",
    "]\n",
    "\n",
    "extension_organization = [\n",
    "    'eu',\n",
    "    'gov',\n",
    "    'info',\n",
    "    'net',\n",
    "    'nhs',\n",
    "    'org'\n",
    "]\n",
    "    \n",
    "extension_company = [\n",
    "    'bio',\n",
    "    'biz',\n",
    "    'care',\n",
    "    'com',\n",
    "    'expert',\n",
    "    'eye',\n",
    "    'io',\n",
    "    'life',\n",
    "]\n",
    "    \n",
    "extension_private = [\n",
    "    'gmail',\n",
    "    'hotmail'\n",
    "]\n",
    "\n",
    "extension_classes = {\n",
    "    'extension_academia': extension_academia,\n",
    "    'extension_country': extension_country,\n",
    "    'extension_organization': extension_organization,\n",
    "    'extension_company': extension_company,\n",
    "    'extension_private': extension_private\n",
    "}\n",
    "\n",
    "num_classified_extensions = 0\n",
    "for k in extension_classes.keys():\n",
    "    num_classified_extensions += len(extension_classes[k])\n",
    "\n",
    "# I have not classified all extensions;\n",
    "# there are some extensions which I'm not familiar with,\n",
    "# which suggests that there could be something wrong\n",
    "# with the extension extraction function\n",
    "print(f'Number of manually classified extensions: {num_classified_extensions} vs {len(email_extensions)}')"
   ]
  },
  {
   "cell_type": "code",
   "execution_count": 39,
   "id": "f9d7bc13-acde-4fef-a109-0dda4dc68d29",
   "metadata": {},
   "outputs": [],
   "source": [
    "def encode_extensions(df, column, extension_classes, sep=','):\n",
    "    \"\"\"One-hot encode email extensions\n",
    "    according to the extension classes.\n",
    "    \n",
    "    Arguments:\n",
    "        df: data frame\n",
    "        column: column which contains text with emails\n",
    "        extension_classes: pre-computed dictionary with email classes\n",
    "            and extensions that belong to each class\n",
    "        sep: email list separator\n",
    "    Returns:\n",
    "    \"\"\"\n",
    "    data = np.zeros((df.shape[0], len(extension_classes.keys())))\n",
    "    cat2index = dict()\n",
    "    for i, extension_class in enumerate(extension_classes.keys()):\n",
    "        cat2index[extension_class] = i\n",
    "    for i, row in enumerate(df[column]):\n",
    "        email_list = row.split(sep)\n",
    "        for e in email_list:\n",
    "            extension = e.split('.')[-1]\n",
    "            for key, values in extension_classes.items():\n",
    "                if extension in values:\n",
    "                    data[i, cat2index[key]] = 1\n",
    "                    \n",
    "    df_extension = pd.DataFrame(data, columns=list(cat2index.keys()))\n",
    "    \n",
    "    return df_extension, cat2index"
   ]
  },
  {
   "cell_type": "code",
   "execution_count": 40,
   "id": "add2cebe-b0ec-4eb2-b0eb-a176ed8d500c",
   "metadata": {},
   "outputs": [],
   "source": [
    "df_extension, extension_cat2index = encode_extensions(df, 'email-domains', extension_classes)"
   ]
  },
  {
   "cell_type": "code",
   "execution_count": 41,
   "id": "58145c71-b0d7-468f-b515-10e2991bd008",
   "metadata": {},
   "outputs": [
    {
     "data": {
      "text/plain": [
       "<AxesSubplot: >"
      ]
     },
     "execution_count": 41,
     "metadata": {},
     "output_type": "execute_result"
    },
    {
     "data": {
      "image/png": "[encoded data removed]",
      "text/plain": [
       "<Figure size 640x480 with 1 Axes>"
      ]
     },
     "metadata": {},
     "output_type": "display_data"
    }
   ],
   "source": [
    "# Most entries have an email with an extension related to the academia\n",
    "df_extension.sum(axis=0).plot(kind='bar')"
   ]
  },
  {
   "cell_type": "markdown",
   "id": "58275e34-ab44-4b24-bb35-43a4420f0661",
   "metadata": {},
   "source": [
    "### 2.3 Process Timestamp"
   ]
  },
  {
   "cell_type": "code",
   "execution_count": 42,
   "id": "f0476bb3-5072-47a1-bd26-e3015c0651ec",
   "metadata": {},
   "outputs": [],
   "source": [
    "# Example value: 2021-05-18T11:17:37.625000\n",
    "df['date'] = pd.to_datetime(df['timestamp'], format='%Y-%m-%d')\n",
    "df['month'] = df['date'].dt.month_name().str.slice(stop=3)\n",
    "df['year'] = df['date'].dt.year\n",
    "df['day'] = df['date'].dt.day"
   ]
  },
  {
   "cell_type": "code",
   "execution_count": 43,
   "id": "fb864ada-6d48-4821-b197-a1fd5d01a993",
   "metadata": {},
   "outputs": [
    {
     "data": {
      "text/plain": [
       "array([2021])"
      ]
     },
     "execution_count": 43,
     "metadata": {},
     "output_type": "execute_result"
    }
   ],
   "source": [
    "# Only one year\n",
    "df['year'].unique()"
   ]
  },
  {
   "cell_type": "code",
   "execution_count": 44,
   "id": "10f94b6c-38e0-403e-a1f2-374edd636164",
   "metadata": {},
   "outputs": [
    {
     "data": {
      "text/plain": [
       "array(['May'], dtype=object)"
      ]
     },
     "execution_count": 44,
     "metadata": {},
     "output_type": "execute_result"
    }
   ],
   "source": [
    "# Only one month\n",
    "df['month'].unique()"
   ]
  },
  {
   "cell_type": "code",
   "execution_count": 45,
   "id": "a72d4cc1-ac9b-46a9-b254-9a152cb9a0ae",
   "metadata": {},
   "outputs": [
    {
     "data": {
      "text/plain": [
       "[4, 5, 6, 7, 10, 11, 12, 13, 14, 17, 18, 19, 20, 21, 24, 25, 26, 27, 28]"
      ]
     },
     "execution_count": 45,
     "metadata": {},
     "output_type": "execute_result"
    }
   ],
   "source": [
    "# Apparently, the searches spread across all May 2021 work days\n",
    "# are contained in the dataset.\n",
    "# Probably no relevant information is contained in the timestamp.\n",
    "# Exception: if each search is associated with different agents\n",
    "# that contact expert candidates. I assume that's not the case.\n",
    "# The timestamp could be a relevant factor if it's spread across\n",
    "# an entire year, because it would comprise a complete cycle in which\n",
    "# stress and motivation oscillate. I can image that those\n",
    "# human factors affect the outreach success.\n",
    "sorted(df['day'].unique())"
   ]
  },
  {
   "cell_type": "markdown",
   "id": "dbabbd79-1273-4fcc-b389-40cb2a5558d0",
   "metadata": {},
   "source": [
    "### 2.4 Assemble Engineered Columns"
   ]
  },
  {
   "cell_type": "code",
   "execution_count": 46,
   "id": "9ac69770-08d0-47e6-aac4-f474370b7cf2",
   "metadata": {},
   "outputs": [
    {
     "data": {
      "text/plain": [
       "Index(['person-id', 'timestamp', 'search-id', 'search-ranking', 'countries',\n",
       "       'email-domains', 'outreach-success', 'date', 'month', 'year', 'day'],\n",
       "      dtype='object')"
      ]
     },
     "execution_count": 46,
     "metadata": {},
     "output_type": "execute_result"
    }
   ],
   "source": [
    "df.columns"
   ]
  },
  {
   "cell_type": "code",
   "execution_count": 47,
   "id": "40d1ffd1-337c-4485-b0d0-6ceb2d028fe4",
   "metadata": {},
   "outputs": [],
   "source": [
    "data = df[['person-id', 'search-id', 'search-ranking', 'outreach-success', 'day']]"
   ]
  },
  {
   "cell_type": "code",
   "execution_count": 48,
   "id": "943b68df-eabd-4399-96f7-410044ba6934",
   "metadata": {},
   "outputs": [],
   "source": [
    "data = pd.concat([data, df_country, df_emails, df_extension], axis=1)"
   ]
  },
  {
   "cell_type": "code",
   "execution_count": 49,
   "id": "58ae2c81-7930-40d1-81de-9e1e47450cb8",
   "metadata": {},
   "outputs": [
    {
     "data": {
      "text/plain": [
       "['person-id',\n",
       " 'search-id',\n",
       " 'search-ranking',\n",
       " 'outreach-success',\n",
       " 'day',\n",
       " 'countries_AE',\n",
       " 'countries_AI',\n",
       " 'countries_AR',\n",
       " 'countries_AS',\n",
       " 'countries_AT',\n",
       " 'countries_AU',\n",
       " 'countries_AZ',\n",
       " 'countries_BD',\n",
       " 'countries_BE',\n",
       " 'countries_BG',\n",
       " 'countries_BH',\n",
       " 'countries_BM',\n",
       " 'countries_BO',\n",
       " 'countries_BR',\n",
       " 'countries_BS',\n",
       " 'countries_BT',\n",
       " 'countries_BW',\n",
       " 'countries_CA',\n",
       " 'countries_CH',\n",
       " 'countries_CL',\n",
       " 'countries_CM',\n",
       " 'countries_CN',\n",
       " 'countries_CO',\n",
       " 'countries_CR',\n",
       " 'countries_CS',\n",
       " 'countries_CU',\n",
       " 'countries_CZ',\n",
       " 'countries_DE',\n",
       " 'countries_DK',\n",
       " 'countries_DM',\n",
       " 'countries_DZ',\n",
       " 'countries_EE',\n",
       " 'countries_EG',\n",
       " 'countries_ES',\n",
       " 'countries_ET',\n",
       " 'countries_FI',\n",
       " 'countries_FR',\n",
       " 'countries_GB',\n",
       " 'countries_GE',\n",
       " 'countries_GH',\n",
       " 'countries_GR',\n",
       " 'countries_GT',\n",
       " 'countries_GU',\n",
       " 'countries_GY',\n",
       " 'countries_HK',\n",
       " 'countries_HN',\n",
       " 'countries_HR',\n",
       " 'countries_HU',\n",
       " 'countries_ID',\n",
       " 'countries_IE',\n",
       " 'countries_IL',\n",
       " 'countries_IN',\n",
       " 'countries_IO',\n",
       " 'countries_IR',\n",
       " 'countries_IS',\n",
       " 'countries_IT',\n",
       " 'countries_JE',\n",
       " 'countries_JO',\n",
       " 'countries_JP',\n",
       " 'countries_KE',\n",
       " 'countries_KG',\n",
       " 'countries_KH',\n",
       " 'countries_KP',\n",
       " 'countries_KR',\n",
       " 'countries_KW',\n",
       " 'countries_LB',\n",
       " 'countries_LR',\n",
       " 'countries_LT',\n",
       " 'countries_LU',\n",
       " 'countries_LV',\n",
       " 'countries_LY',\n",
       " 'countries_MD',\n",
       " 'countries_MK',\n",
       " 'countries_MW',\n",
       " 'countries_MX',\n",
       " 'countries_MY',\n",
       " 'countries_NA',\n",
       " 'countries_NE',\n",
       " 'countries_NG',\n",
       " 'countries_NL',\n",
       " 'countries_NO',\n",
       " 'countries_NP',\n",
       " 'countries_NZ',\n",
       " 'countries_OM',\n",
       " 'countries_PA',\n",
       " 'countries_PE',\n",
       " 'countries_PF',\n",
       " 'countries_PH',\n",
       " 'countries_PK',\n",
       " 'countries_PL',\n",
       " 'countries_PR',\n",
       " 'countries_PS',\n",
       " 'countries_PT',\n",
       " 'countries_QA',\n",
       " 'countries_RO',\n",
       " 'countries_RS',\n",
       " 'countries_RU',\n",
       " 'countries_SA',\n",
       " 'countries_SE',\n",
       " 'countries_SG',\n",
       " 'countries_SI',\n",
       " 'countries_SK',\n",
       " 'countries_SV',\n",
       " 'countries_SY',\n",
       " 'countries_TH',\n",
       " 'countries_TN',\n",
       " 'countries_TR',\n",
       " 'countries_TW',\n",
       " 'countries_TZ',\n",
       " 'countries_UA',\n",
       " 'countries_US',\n",
       " 'countries_UY',\n",
       " 'countries_VC',\n",
       " 'countries_VE',\n",
       " 'countries_VN',\n",
       " 'countries_ZA',\n",
       " 'countries_ZW',\n",
       " 'num_countries',\n",
       " 'num_email-domains',\n",
       " 'extension_academia',\n",
       " 'extension_country',\n",
       " 'extension_organization',\n",
       " 'extension_company',\n",
       " 'extension_private']"
      ]
     },
     "execution_count": 49,
     "metadata": {},
     "output_type": "execute_result"
    }
   ],
   "source": [
    "list(data.columns)"
   ]
  },
  {
   "cell_type": "markdown",
   "id": "2c38368c-7341-48fb-bb03-de2a779e9c18",
   "metadata": {},
   "source": [
    "### 2.5 Reduce Entries to Experts"
   ]
  },
  {
   "cell_type": "markdown",
   "id": "dda6464b-a0d8-412f-b62c-bcc82cce45de",
   "metadata": {},
   "source": [
    "The reasoning behind reducing search result entries to expert entries is the following: \n",
    "\n",
    "- I assume that each expert will get a generic contact email.\n",
    "- The outreach success depends on the expert answering the contact.\n",
    "- Carefully aggregating each expert search data makes sense, because it is the expert the factor which yields to successful contact, not the search.\n",
    "\n",
    "There might be cases in which that reasoning (and the related assumptions) are incorrect, e.g.:\n",
    "\n",
    "- The contact emails are not that generic, but customized.\n",
    "- ..."
   ]
  },
  {
   "cell_type": "code",
   "execution_count": 50,
   "id": "8bb9ff24-384d-48b1-8b63-5ebe749eac78",
   "metadata": {},
   "outputs": [
    {
     "data": {
      "text/plain": [
       "(371772, 129)"
      ]
     },
     "execution_count": 50,
     "metadata": {},
     "output_type": "execute_result"
    }
   ],
   "source": [
    "data.shape"
   ]
  },
  {
   "cell_type": "code",
   "execution_count": 51,
   "id": "41dc1c17-39f3-415b-8693-42cebd858715",
   "metadata": {},
   "outputs": [
    {
     "data": {
      "text/html": [
       "<div>\n",
       "<style scoped>\n",
       "    .dataframe tbody tr th:only-of-type {\n",
       "        vertical-align: middle;\n",
       "    }\n",
       "\n",
       "    .dataframe tbody tr th {\n",
       "        vertical-align: top;\n",
       "    }\n",
       "\n",
       "    .dataframe thead th {\n",
       "        text-align: right;\n",
       "    }\n",
       "</style>\n",
       "<table border=\"1\" class=\"dataframe\">\n",
       "  <thead>\n",
       "    <tr style=\"text-align: right;\">\n",
       "      <th></th>\n",
       "      <th>person-id</th>\n",
       "      <th>search-id</th>\n",
       "      <th>search-ranking</th>\n",
       "      <th>outreach-success</th>\n",
       "      <th>day</th>\n",
       "      <th>countries_AE</th>\n",
       "      <th>countries_AI</th>\n",
       "      <th>countries_AR</th>\n",
       "      <th>countries_AS</th>\n",
       "      <th>countries_AT</th>\n",
       "      <th>...</th>\n",
       "      <th>countries_VN</th>\n",
       "      <th>countries_ZA</th>\n",
       "      <th>countries_ZW</th>\n",
       "      <th>num_countries</th>\n",
       "      <th>num_email-domains</th>\n",
       "      <th>extension_academia</th>\n",
       "      <th>extension_country</th>\n",
       "      <th>extension_organization</th>\n",
       "      <th>extension_company</th>\n",
       "      <th>extension_private</th>\n",
       "    </tr>\n",
       "  </thead>\n",
       "  <tbody>\n",
       "    <tr>\n",
       "      <th>0</th>\n",
       "      <td>93033378-8207-4c9f-bfa5-95b520f7c760</td>\n",
       "      <td>a6380bba-b203-48dc-bbd6-5cb58b12ee07</td>\n",
       "      <td>1</td>\n",
       "      <td>0</td>\n",
       "      <td>26</td>\n",
       "      <td>0.0</td>\n",
       "      <td>0.0</td>\n",
       "      <td>0.0</td>\n",
       "      <td>0.0</td>\n",
       "      <td>0.0</td>\n",
       "      <td>...</td>\n",
       "      <td>0.0</td>\n",
       "      <td>0.0</td>\n",
       "      <td>0.0</td>\n",
       "      <td>1.0</td>\n",
       "      <td>1.0</td>\n",
       "      <td>1.0</td>\n",
       "      <td>0.0</td>\n",
       "      <td>0.0</td>\n",
       "      <td>0.0</td>\n",
       "      <td>0.0</td>\n",
       "    </tr>\n",
       "    <tr>\n",
       "      <th>1</th>\n",
       "      <td>18a3bd6b-5665-4f08-aae4-66f2219100b3</td>\n",
       "      <td>a6380bba-b203-48dc-bbd6-5cb58b12ee07</td>\n",
       "      <td>2</td>\n",
       "      <td>0</td>\n",
       "      <td>26</td>\n",
       "      <td>0.0</td>\n",
       "      <td>0.0</td>\n",
       "      <td>0.0</td>\n",
       "      <td>0.0</td>\n",
       "      <td>0.0</td>\n",
       "      <td>...</td>\n",
       "      <td>0.0</td>\n",
       "      <td>0.0</td>\n",
       "      <td>0.0</td>\n",
       "      <td>1.0</td>\n",
       "      <td>1.0</td>\n",
       "      <td>1.0</td>\n",
       "      <td>0.0</td>\n",
       "      <td>0.0</td>\n",
       "      <td>0.0</td>\n",
       "      <td>0.0</td>\n",
       "    </tr>\n",
       "    <tr>\n",
       "      <th>2</th>\n",
       "      <td>21e9d97a-0940-4fcf-825a-e4a118d01b1b</td>\n",
       "      <td>a6380bba-b203-48dc-bbd6-5cb58b12ee07</td>\n",
       "      <td>3</td>\n",
       "      <td>0</td>\n",
       "      <td>26</td>\n",
       "      <td>0.0</td>\n",
       "      <td>0.0</td>\n",
       "      <td>0.0</td>\n",
       "      <td>0.0</td>\n",
       "      <td>0.0</td>\n",
       "      <td>...</td>\n",
       "      <td>0.0</td>\n",
       "      <td>0.0</td>\n",
       "      <td>0.0</td>\n",
       "      <td>1.0</td>\n",
       "      <td>1.0</td>\n",
       "      <td>0.0</td>\n",
       "      <td>0.0</td>\n",
       "      <td>1.0</td>\n",
       "      <td>0.0</td>\n",
       "      <td>0.0</td>\n",
       "    </tr>\n",
       "    <tr>\n",
       "      <th>3</th>\n",
       "      <td>aUlZWRzbXY7Ev5VCWo8Zag_0000</td>\n",
       "      <td>a6380bba-b203-48dc-bbd6-5cb58b12ee07</td>\n",
       "      <td>4</td>\n",
       "      <td>0</td>\n",
       "      <td>26</td>\n",
       "      <td>0.0</td>\n",
       "      <td>0.0</td>\n",
       "      <td>0.0</td>\n",
       "      <td>0.0</td>\n",
       "      <td>0.0</td>\n",
       "      <td>...</td>\n",
       "      <td>0.0</td>\n",
       "      <td>0.0</td>\n",
       "      <td>0.0</td>\n",
       "      <td>1.0</td>\n",
       "      <td>3.0</td>\n",
       "      <td>1.0</td>\n",
       "      <td>0.0</td>\n",
       "      <td>0.0</td>\n",
       "      <td>1.0</td>\n",
       "      <td>0.0</td>\n",
       "    </tr>\n",
       "    <tr>\n",
       "      <th>4</th>\n",
       "      <td>2e23c461-d817-4d6c-af0b-b3567e63b878</td>\n",
       "      <td>a6380bba-b203-48dc-bbd6-5cb58b12ee07</td>\n",
       "      <td>5</td>\n",
       "      <td>0</td>\n",
       "      <td>26</td>\n",
       "      <td>0.0</td>\n",
       "      <td>0.0</td>\n",
       "      <td>0.0</td>\n",
       "      <td>0.0</td>\n",
       "      <td>0.0</td>\n",
       "      <td>...</td>\n",
       "      <td>0.0</td>\n",
       "      <td>0.0</td>\n",
       "      <td>0.0</td>\n",
       "      <td>1.0</td>\n",
       "      <td>2.0</td>\n",
       "      <td>1.0</td>\n",
       "      <td>0.0</td>\n",
       "      <td>0.0</td>\n",
       "      <td>0.0</td>\n",
       "      <td>0.0</td>\n",
       "    </tr>\n",
       "  </tbody>\n",
       "</table>\n",
       "<p>5 rows × 129 columns</p>\n",
       "</div>"
      ],
      "text/plain": [
       "                              person-id                             search-id  \\\n",
       "0  93033378-8207-4c9f-bfa5-95b520f7c760  a6380bba-b203-48dc-bbd6-5cb58b12ee07   \n",
       "1  18a3bd6b-5665-4f08-aae4-66f2219100b3  a6380bba-b203-48dc-bbd6-5cb58b12ee07   \n",
       "2  21e9d97a-0940-4fcf-825a-e4a118d01b1b  a6380bba-b203-48dc-bbd6-5cb58b12ee07   \n",
       "3           aUlZWRzbXY7Ev5VCWo8Zag_0000  a6380bba-b203-48dc-bbd6-5cb58b12ee07   \n",
       "4  2e23c461-d817-4d6c-af0b-b3567e63b878  a6380bba-b203-48dc-bbd6-5cb58b12ee07   \n",
       "\n",
       "   search-ranking  outreach-success  day  countries_AE  countries_AI  \\\n",
       "0               1                 0   26           0.0           0.0   \n",
       "1               2                 0   26           0.0           0.0   \n",
       "2               3                 0   26           0.0           0.0   \n",
       "3               4                 0   26           0.0           0.0   \n",
       "4               5                 0   26           0.0           0.0   \n",
       "\n",
       "   countries_AR  countries_AS  countries_AT  ...  countries_VN  countries_ZA  \\\n",
       "0           0.0           0.0           0.0  ...           0.0           0.0   \n",
       "1           0.0           0.0           0.0  ...           0.0           0.0   \n",
       "2           0.0           0.0           0.0  ...           0.0           0.0   \n",
       "3           0.0           0.0           0.0  ...           0.0           0.0   \n",
       "4           0.0           0.0           0.0  ...           0.0           0.0   \n",
       "\n",
       "   countries_ZW  num_countries  num_email-domains  extension_academia  \\\n",
       "0           0.0            1.0                1.0                 1.0   \n",
       "1           0.0            1.0                1.0                 1.0   \n",
       "2           0.0            1.0                1.0                 0.0   \n",
       "3           0.0            1.0                3.0                 1.0   \n",
       "4           0.0            1.0                2.0                 1.0   \n",
       "\n",
       "   extension_country  extension_organization  extension_company  \\\n",
       "0                0.0                     0.0                0.0   \n",
       "1                0.0                     0.0                0.0   \n",
       "2                0.0                     1.0                0.0   \n",
       "3                0.0                     0.0                1.0   \n",
       "4                0.0                     0.0                0.0   \n",
       "\n",
       "   extension_private  \n",
       "0                0.0  \n",
       "1                0.0  \n",
       "2                0.0  \n",
       "3                0.0  \n",
       "4                0.0  \n",
       "\n",
       "[5 rows x 129 columns]"
      ]
     },
     "execution_count": 51,
     "metadata": {},
     "output_type": "execute_result"
    }
   ],
   "source": [
    "data.head()"
   ]
  },
  {
   "cell_type": "code",
   "execution_count": 52,
   "id": "6fbcd0fe-60cf-4f19-b051-05cfbfb1c09f",
   "metadata": {},
   "outputs": [
    {
     "data": {
      "text/plain": [
       "(272048, 128)"
      ]
     },
     "execution_count": 52,
     "metadata": {},
     "output_type": "execute_result"
    }
   ],
   "source": [
    "# After cleaning and preprocessing we have 371772 entries\n",
    "# but if we ignore the search-id and drop duplicates\n",
    "# we get 269897 unique entries; i.e., 371772-269897 entries\n",
    "# are identical but belong to different searches \n",
    "data.drop('search-id', axis=1).drop_duplicates().shape"
   ]
  },
  {
   "cell_type": "code",
   "execution_count": 53,
   "id": "bbb94880-7208-46f8-bdb8-3063c922dd03",
   "metadata": {},
   "outputs": [
    {
     "data": {
      "text/plain": [
       "person-id\n",
       "#NAME?                         198\n",
       "--0thaA7rneCMDYAVlzh2w_0000      2\n",
       "--9CXiA-i3-GLAtPrjBqQQ_0000      1\n",
       "-13B7zGE0jfD8BP1ZCnmwg_0000      1\n",
       "-16Mclmc2cZOcJ0-vw52oA_0000      3\n",
       "                              ... \n",
       "zv3zprP8c60BsPhRcusSPw_0000      1\n",
       "zvfTrr8WvT5ZdiBKu2TJZA_0000      4\n",
       "zySQFPs7rNvHQ9Vm2dhL2A_0000      2\n",
       "zyxxCMp7HI1PGBIS7DB1EQ_0000      2\n",
       "zz0o0N3XyaEZcdlVbLEXvg_0000      3\n",
       "Name: person-id, Length: 167096, dtype: int64"
      ]
     },
     "execution_count": 53,
     "metadata": {},
     "output_type": "execute_result"
    }
   ],
   "source": [
    "# In order to aggregate/reduce the dataset to the experts\n",
    "# we need to group by person-id and apply aggregate functions:\n",
    "# - count\n",
    "# - median\n",
    "# - max / min\n",
    "# - etc.\n",
    "# Note that there are 198 entries with person-id #NAME?\n",
    "data.drop('search-id', axis=1).groupby('person-id')['person-id'].count()"
   ]
  },
  {
   "cell_type": "code",
   "execution_count": 54,
   "id": "d8631c9f-c836-4300-981e-d16792f49ad7",
   "metadata": {},
   "outputs": [
    {
     "data": {
      "text/plain": [
       "email-domains\n",
       "abbott.com                                       0\n",
       "amgen.com,gmail.com,verizon.net                  0\n",
       "aol.com                                          0\n",
       "archildrens.org                                  0\n",
       "baltimorefaces.com                               0\n",
       "                                                ..\n",
       "yahoo.com,novartis.com,vanderbilt.edu,aol.com    0\n",
       "yahoo.com,quintiles.com,mdvip.com                0\n",
       "yahoo.com,sbcglobal.net,msn.com                  0\n",
       "yahoo.com,va.gov,ucsf.edu                        0\n",
       "zambongroup.com                                  0\n",
       "Name: outreach-success, Length: 74, dtype: int64"
      ]
     },
     "execution_count": 54,
     "metadata": {},
     "output_type": "execute_result"
    }
   ],
   "source": [
    "# There are 198 entries with person-id #NAME?\n",
    "# We could fix the #NAME? entries by grouping the by emain-domains\n",
    "# and setting the email-domain as person-id instead of the id hash.\n",
    "# However, I won't do that in order to avoid over-engineering.\n",
    "# Additionally:\n",
    "# - Names should be resolved upstream.\n",
    "# - Only one entry from those 198 has a successful outreach\n",
    "df[df['person-id']=='#NAME?'].groupby('email-domains')['outreach-success'].max()"
   ]
  },
  {
   "cell_type": "code",
   "execution_count": 55,
   "id": "53ff93c2-0cd0-4a10-8737-52e0340a4acd",
   "metadata": {},
   "outputs": [
    {
     "data": {
      "text/plain": [
       "1"
      ]
     },
     "execution_count": 55,
     "metadata": {},
     "output_type": "execute_result"
    }
   ],
   "source": [
    "df[df['person-id']=='#NAME?'].groupby('email-domains')['outreach-success'].max().sum()"
   ]
  },
  {
   "cell_type": "code",
   "execution_count": 56,
   "id": "81cee912-1734-464a-b8da-7ae88177f830",
   "metadata": {},
   "outputs": [],
   "source": [
    "# Drop entries with person-id #NAME?\n",
    "data.loc[data['person-id']=='#NAME?','person-id'] = None\n",
    "data = data.dropna()"
   ]
  },
  {
   "cell_type": "code",
   "execution_count": 57,
   "id": "ed20faa5-e1d9-4e4b-88c7-6287818ca366",
   "metadata": {},
   "outputs": [
    {
     "data": {
      "text/plain": [
       "person-id\n",
       "--0thaA7rneCMDYAVlzh2w_0000    2\n",
       "--9CXiA-i3-GLAtPrjBqQQ_0000    1\n",
       "-13B7zGE0jfD8BP1ZCnmwg_0000    1\n",
       "-16Mclmc2cZOcJ0-vw52oA_0000    3\n",
       "-1IIFTLlBmVHkQBWojRkWw_0000    5\n",
       "                              ..\n",
       "zv3zprP8c60BsPhRcusSPw_0000    1\n",
       "zvfTrr8WvT5ZdiBKu2TJZA_0000    4\n",
       "zySQFPs7rNvHQ9Vm2dhL2A_0000    2\n",
       "zyxxCMp7HI1PGBIS7DB1EQ_0000    2\n",
       "zz0o0N3XyaEZcdlVbLEXvg_0000    3\n",
       "Name: person-id, Length: 167095, dtype: int64"
      ]
     },
     "execution_count": 57,
     "metadata": {},
     "output_type": "execute_result"
    }
   ],
   "source": [
    "# Experts without name were removed successfully\n",
    "data.drop('search-id', axis=1).groupby('person-id')['person-id'].count()"
   ]
  },
  {
   "cell_type": "code",
   "execution_count": 58,
   "id": "d19124c3-86f1-4b3e-ad58-cd8a38d4cb32",
   "metadata": {},
   "outputs": [
    {
     "data": {
      "text/html": [
       "<div>\n",
       "<style scoped>\n",
       "    .dataframe tbody tr th:only-of-type {\n",
       "        vertical-align: middle;\n",
       "    }\n",
       "\n",
       "    .dataframe tbody tr th {\n",
       "        vertical-align: top;\n",
       "    }\n",
       "\n",
       "    .dataframe thead th {\n",
       "        text-align: right;\n",
       "    }\n",
       "</style>\n",
       "<table border=\"1\" class=\"dataframe\">\n",
       "  <thead>\n",
       "    <tr style=\"text-align: right;\">\n",
       "      <th></th>\n",
       "      <th>person-id</th>\n",
       "      <th>search-id</th>\n",
       "      <th>search-ranking</th>\n",
       "      <th>outreach-success</th>\n",
       "      <th>day</th>\n",
       "      <th>countries_AE</th>\n",
       "      <th>countries_AI</th>\n",
       "      <th>countries_AR</th>\n",
       "      <th>countries_AS</th>\n",
       "      <th>countries_AT</th>\n",
       "      <th>...</th>\n",
       "      <th>countries_VN</th>\n",
       "      <th>countries_ZA</th>\n",
       "      <th>countries_ZW</th>\n",
       "      <th>num_countries</th>\n",
       "      <th>num_email-domains</th>\n",
       "      <th>extension_academia</th>\n",
       "      <th>extension_country</th>\n",
       "      <th>extension_organization</th>\n",
       "      <th>extension_company</th>\n",
       "      <th>extension_private</th>\n",
       "    </tr>\n",
       "  </thead>\n",
       "  <tbody>\n",
       "    <tr>\n",
       "      <th>0</th>\n",
       "      <td>93033378-8207-4c9f-bfa5-95b520f7c760</td>\n",
       "      <td>a6380bba-b203-48dc-bbd6-5cb58b12ee07</td>\n",
       "      <td>1</td>\n",
       "      <td>0</td>\n",
       "      <td>26</td>\n",
       "      <td>0.0</td>\n",
       "      <td>0.0</td>\n",
       "      <td>0.0</td>\n",
       "      <td>0.0</td>\n",
       "      <td>0.0</td>\n",
       "      <td>...</td>\n",
       "      <td>0.0</td>\n",
       "      <td>0.0</td>\n",
       "      <td>0.0</td>\n",
       "      <td>1.0</td>\n",
       "      <td>1.0</td>\n",
       "      <td>1.0</td>\n",
       "      <td>0.0</td>\n",
       "      <td>0.0</td>\n",
       "      <td>0.0</td>\n",
       "      <td>0.0</td>\n",
       "    </tr>\n",
       "    <tr>\n",
       "      <th>1</th>\n",
       "      <td>18a3bd6b-5665-4f08-aae4-66f2219100b3</td>\n",
       "      <td>a6380bba-b203-48dc-bbd6-5cb58b12ee07</td>\n",
       "      <td>2</td>\n",
       "      <td>0</td>\n",
       "      <td>26</td>\n",
       "      <td>0.0</td>\n",
       "      <td>0.0</td>\n",
       "      <td>0.0</td>\n",
       "      <td>0.0</td>\n",
       "      <td>0.0</td>\n",
       "      <td>...</td>\n",
       "      <td>0.0</td>\n",
       "      <td>0.0</td>\n",
       "      <td>0.0</td>\n",
       "      <td>1.0</td>\n",
       "      <td>1.0</td>\n",
       "      <td>1.0</td>\n",
       "      <td>0.0</td>\n",
       "      <td>0.0</td>\n",
       "      <td>0.0</td>\n",
       "      <td>0.0</td>\n",
       "    </tr>\n",
       "    <tr>\n",
       "      <th>2</th>\n",
       "      <td>21e9d97a-0940-4fcf-825a-e4a118d01b1b</td>\n",
       "      <td>a6380bba-b203-48dc-bbd6-5cb58b12ee07</td>\n",
       "      <td>3</td>\n",
       "      <td>0</td>\n",
       "      <td>26</td>\n",
       "      <td>0.0</td>\n",
       "      <td>0.0</td>\n",
       "      <td>0.0</td>\n",
       "      <td>0.0</td>\n",
       "      <td>0.0</td>\n",
       "      <td>...</td>\n",
       "      <td>0.0</td>\n",
       "      <td>0.0</td>\n",
       "      <td>0.0</td>\n",
       "      <td>1.0</td>\n",
       "      <td>1.0</td>\n",
       "      <td>0.0</td>\n",
       "      <td>0.0</td>\n",
       "      <td>1.0</td>\n",
       "      <td>0.0</td>\n",
       "      <td>0.0</td>\n",
       "    </tr>\n",
       "    <tr>\n",
       "      <th>3</th>\n",
       "      <td>aUlZWRzbXY7Ev5VCWo8Zag_0000</td>\n",
       "      <td>a6380bba-b203-48dc-bbd6-5cb58b12ee07</td>\n",
       "      <td>4</td>\n",
       "      <td>0</td>\n",
       "      <td>26</td>\n",
       "      <td>0.0</td>\n",
       "      <td>0.0</td>\n",
       "      <td>0.0</td>\n",
       "      <td>0.0</td>\n",
       "      <td>0.0</td>\n",
       "      <td>...</td>\n",
       "      <td>0.0</td>\n",
       "      <td>0.0</td>\n",
       "      <td>0.0</td>\n",
       "      <td>1.0</td>\n",
       "      <td>3.0</td>\n",
       "      <td>1.0</td>\n",
       "      <td>0.0</td>\n",
       "      <td>0.0</td>\n",
       "      <td>1.0</td>\n",
       "      <td>0.0</td>\n",
       "    </tr>\n",
       "    <tr>\n",
       "      <th>4</th>\n",
       "      <td>2e23c461-d817-4d6c-af0b-b3567e63b878</td>\n",
       "      <td>a6380bba-b203-48dc-bbd6-5cb58b12ee07</td>\n",
       "      <td>5</td>\n",
       "      <td>0</td>\n",
       "      <td>26</td>\n",
       "      <td>0.0</td>\n",
       "      <td>0.0</td>\n",
       "      <td>0.0</td>\n",
       "      <td>0.0</td>\n",
       "      <td>0.0</td>\n",
       "      <td>...</td>\n",
       "      <td>0.0</td>\n",
       "      <td>0.0</td>\n",
       "      <td>0.0</td>\n",
       "      <td>1.0</td>\n",
       "      <td>2.0</td>\n",
       "      <td>1.0</td>\n",
       "      <td>0.0</td>\n",
       "      <td>0.0</td>\n",
       "      <td>0.0</td>\n",
       "      <td>0.0</td>\n",
       "    </tr>\n",
       "  </tbody>\n",
       "</table>\n",
       "<p>5 rows × 129 columns</p>\n",
       "</div>"
      ],
      "text/plain": [
       "                              person-id                             search-id  \\\n",
       "0  93033378-8207-4c9f-bfa5-95b520f7c760  a6380bba-b203-48dc-bbd6-5cb58b12ee07   \n",
       "1  18a3bd6b-5665-4f08-aae4-66f2219100b3  a6380bba-b203-48dc-bbd6-5cb58b12ee07   \n",
       "2  21e9d97a-0940-4fcf-825a-e4a118d01b1b  a6380bba-b203-48dc-bbd6-5cb58b12ee07   \n",
       "3           aUlZWRzbXY7Ev5VCWo8Zag_0000  a6380bba-b203-48dc-bbd6-5cb58b12ee07   \n",
       "4  2e23c461-d817-4d6c-af0b-b3567e63b878  a6380bba-b203-48dc-bbd6-5cb58b12ee07   \n",
       "\n",
       "   search-ranking  outreach-success  day  countries_AE  countries_AI  \\\n",
       "0               1                 0   26           0.0           0.0   \n",
       "1               2                 0   26           0.0           0.0   \n",
       "2               3                 0   26           0.0           0.0   \n",
       "3               4                 0   26           0.0           0.0   \n",
       "4               5                 0   26           0.0           0.0   \n",
       "\n",
       "   countries_AR  countries_AS  countries_AT  ...  countries_VN  countries_ZA  \\\n",
       "0           0.0           0.0           0.0  ...           0.0           0.0   \n",
       "1           0.0           0.0           0.0  ...           0.0           0.0   \n",
       "2           0.0           0.0           0.0  ...           0.0           0.0   \n",
       "3           0.0           0.0           0.0  ...           0.0           0.0   \n",
       "4           0.0           0.0           0.0  ...           0.0           0.0   \n",
       "\n",
       "   countries_ZW  num_countries  num_email-domains  extension_academia  \\\n",
       "0           0.0            1.0                1.0                 1.0   \n",
       "1           0.0            1.0                1.0                 1.0   \n",
       "2           0.0            1.0                1.0                 0.0   \n",
       "3           0.0            1.0                3.0                 1.0   \n",
       "4           0.0            1.0                2.0                 1.0   \n",
       "\n",
       "   extension_country  extension_organization  extension_company  \\\n",
       "0                0.0                     0.0                0.0   \n",
       "1                0.0                     0.0                0.0   \n",
       "2                0.0                     1.0                0.0   \n",
       "3                0.0                     0.0                1.0   \n",
       "4                0.0                     0.0                0.0   \n",
       "\n",
       "   extension_private  \n",
       "0                0.0  \n",
       "1                0.0  \n",
       "2                0.0  \n",
       "3                0.0  \n",
       "4                0.0  \n",
       "\n",
       "[5 rows x 129 columns]"
      ]
     },
     "execution_count": 58,
     "metadata": {},
     "output_type": "execute_result"
    }
   ],
   "source": [
    "data.head()"
   ]
  },
  {
   "cell_type": "markdown",
   "id": "ae2eeaa5-abe5-4dd0-b3aa-597d93517690",
   "metadata": {},
   "source": [
    "#### Persist Preprocesed Dataset"
   ]
  },
  {
   "cell_type": "code",
   "execution_count": 59,
   "id": "0a62671f-a80b-42b1-bed9-a8fc7df0341b",
   "metadata": {},
   "outputs": [],
   "source": [
    "data.to_csv('data/data_Nov_2022_preprocessed.csv', sep=',', header=True, index=False)\n",
    "data = pd.read_csv('data/data_Nov_2022_preprocessed.csv')"
   ]
  },
  {
   "cell_type": "code",
   "execution_count": 60,
   "id": "1769b98a-bee7-49f5-8290-7f787e73831f",
   "metadata": {},
   "outputs": [
    {
     "data": {
      "text/html": [
       "<div>\n",
       "<style scoped>\n",
       "    .dataframe tbody tr th:only-of-type {\n",
       "        vertical-align: middle;\n",
       "    }\n",
       "\n",
       "    .dataframe tbody tr th {\n",
       "        vertical-align: top;\n",
       "    }\n",
       "\n",
       "    .dataframe thead th {\n",
       "        text-align: right;\n",
       "    }\n",
       "</style>\n",
       "<table border=\"1\" class=\"dataframe\">\n",
       "  <thead>\n",
       "    <tr style=\"text-align: right;\">\n",
       "      <th></th>\n",
       "      <th>person-id</th>\n",
       "      <th>search-id</th>\n",
       "      <th>search-ranking</th>\n",
       "      <th>outreach-success</th>\n",
       "      <th>day</th>\n",
       "      <th>countries_AE</th>\n",
       "      <th>countries_AI</th>\n",
       "      <th>countries_AR</th>\n",
       "      <th>countries_AS</th>\n",
       "      <th>countries_AT</th>\n",
       "      <th>...</th>\n",
       "      <th>countries_VN</th>\n",
       "      <th>countries_ZA</th>\n",
       "      <th>countries_ZW</th>\n",
       "      <th>num_countries</th>\n",
       "      <th>num_email-domains</th>\n",
       "      <th>extension_academia</th>\n",
       "      <th>extension_country</th>\n",
       "      <th>extension_organization</th>\n",
       "      <th>extension_company</th>\n",
       "      <th>extension_private</th>\n",
       "    </tr>\n",
       "  </thead>\n",
       "  <tbody>\n",
       "    <tr>\n",
       "      <th>0</th>\n",
       "      <td>93033378-8207-4c9f-bfa5-95b520f7c760</td>\n",
       "      <td>a6380bba-b203-48dc-bbd6-5cb58b12ee07</td>\n",
       "      <td>1</td>\n",
       "      <td>0</td>\n",
       "      <td>26</td>\n",
       "      <td>0.0</td>\n",
       "      <td>0.0</td>\n",
       "      <td>0.0</td>\n",
       "      <td>0.0</td>\n",
       "      <td>0.0</td>\n",
       "      <td>...</td>\n",
       "      <td>0.0</td>\n",
       "      <td>0.0</td>\n",
       "      <td>0.0</td>\n",
       "      <td>1.0</td>\n",
       "      <td>1.0</td>\n",
       "      <td>1.0</td>\n",
       "      <td>0.0</td>\n",
       "      <td>0.0</td>\n",
       "      <td>0.0</td>\n",
       "      <td>0.0</td>\n",
       "    </tr>\n",
       "    <tr>\n",
       "      <th>1</th>\n",
       "      <td>18a3bd6b-5665-4f08-aae4-66f2219100b3</td>\n",
       "      <td>a6380bba-b203-48dc-bbd6-5cb58b12ee07</td>\n",
       "      <td>2</td>\n",
       "      <td>0</td>\n",
       "      <td>26</td>\n",
       "      <td>0.0</td>\n",
       "      <td>0.0</td>\n",
       "      <td>0.0</td>\n",
       "      <td>0.0</td>\n",
       "      <td>0.0</td>\n",
       "      <td>...</td>\n",
       "      <td>0.0</td>\n",
       "      <td>0.0</td>\n",
       "      <td>0.0</td>\n",
       "      <td>1.0</td>\n",
       "      <td>1.0</td>\n",
       "      <td>1.0</td>\n",
       "      <td>0.0</td>\n",
       "      <td>0.0</td>\n",
       "      <td>0.0</td>\n",
       "      <td>0.0</td>\n",
       "    </tr>\n",
       "    <tr>\n",
       "      <th>2</th>\n",
       "      <td>21e9d97a-0940-4fcf-825a-e4a118d01b1b</td>\n",
       "      <td>a6380bba-b203-48dc-bbd6-5cb58b12ee07</td>\n",
       "      <td>3</td>\n",
       "      <td>0</td>\n",
       "      <td>26</td>\n",
       "      <td>0.0</td>\n",
       "      <td>0.0</td>\n",
       "      <td>0.0</td>\n",
       "      <td>0.0</td>\n",
       "      <td>0.0</td>\n",
       "      <td>...</td>\n",
       "      <td>0.0</td>\n",
       "      <td>0.0</td>\n",
       "      <td>0.0</td>\n",
       "      <td>1.0</td>\n",
       "      <td>1.0</td>\n",
       "      <td>0.0</td>\n",
       "      <td>0.0</td>\n",
       "      <td>1.0</td>\n",
       "      <td>0.0</td>\n",
       "      <td>0.0</td>\n",
       "    </tr>\n",
       "    <tr>\n",
       "      <th>3</th>\n",
       "      <td>aUlZWRzbXY7Ev5VCWo8Zag_0000</td>\n",
       "      <td>a6380bba-b203-48dc-bbd6-5cb58b12ee07</td>\n",
       "      <td>4</td>\n",
       "      <td>0</td>\n",
       "      <td>26</td>\n",
       "      <td>0.0</td>\n",
       "      <td>0.0</td>\n",
       "      <td>0.0</td>\n",
       "      <td>0.0</td>\n",
       "      <td>0.0</td>\n",
       "      <td>...</td>\n",
       "      <td>0.0</td>\n",
       "      <td>0.0</td>\n",
       "      <td>0.0</td>\n",
       "      <td>1.0</td>\n",
       "      <td>3.0</td>\n",
       "      <td>1.0</td>\n",
       "      <td>0.0</td>\n",
       "      <td>0.0</td>\n",
       "      <td>1.0</td>\n",
       "      <td>0.0</td>\n",
       "    </tr>\n",
       "    <tr>\n",
       "      <th>4</th>\n",
       "      <td>2e23c461-d817-4d6c-af0b-b3567e63b878</td>\n",
       "      <td>a6380bba-b203-48dc-bbd6-5cb58b12ee07</td>\n",
       "      <td>5</td>\n",
       "      <td>0</td>\n",
       "      <td>26</td>\n",
       "      <td>0.0</td>\n",
       "      <td>0.0</td>\n",
       "      <td>0.0</td>\n",
       "      <td>0.0</td>\n",
       "      <td>0.0</td>\n",
       "      <td>...</td>\n",
       "      <td>0.0</td>\n",
       "      <td>0.0</td>\n",
       "      <td>0.0</td>\n",
       "      <td>1.0</td>\n",
       "      <td>2.0</td>\n",
       "      <td>1.0</td>\n",
       "      <td>0.0</td>\n",
       "      <td>0.0</td>\n",
       "      <td>0.0</td>\n",
       "      <td>0.0</td>\n",
       "    </tr>\n",
       "  </tbody>\n",
       "</table>\n",
       "<p>5 rows × 129 columns</p>\n",
       "</div>"
      ],
      "text/plain": [
       "                              person-id                             search-id  \\\n",
       "0  93033378-8207-4c9f-bfa5-95b520f7c760  a6380bba-b203-48dc-bbd6-5cb58b12ee07   \n",
       "1  18a3bd6b-5665-4f08-aae4-66f2219100b3  a6380bba-b203-48dc-bbd6-5cb58b12ee07   \n",
       "2  21e9d97a-0940-4fcf-825a-e4a118d01b1b  a6380bba-b203-48dc-bbd6-5cb58b12ee07   \n",
       "3           aUlZWRzbXY7Ev5VCWo8Zag_0000  a6380bba-b203-48dc-bbd6-5cb58b12ee07   \n",
       "4  2e23c461-d817-4d6c-af0b-b3567e63b878  a6380bba-b203-48dc-bbd6-5cb58b12ee07   \n",
       "\n",
       "   search-ranking  outreach-success  day  countries_AE  countries_AI  \\\n",
       "0               1                 0   26           0.0           0.0   \n",
       "1               2                 0   26           0.0           0.0   \n",
       "2               3                 0   26           0.0           0.0   \n",
       "3               4                 0   26           0.0           0.0   \n",
       "4               5                 0   26           0.0           0.0   \n",
       "\n",
       "   countries_AR  countries_AS  countries_AT  ...  countries_VN  countries_ZA  \\\n",
       "0           0.0           0.0           0.0  ...           0.0           0.0   \n",
       "1           0.0           0.0           0.0  ...           0.0           0.0   \n",
       "2           0.0           0.0           0.0  ...           0.0           0.0   \n",
       "3           0.0           0.0           0.0  ...           0.0           0.0   \n",
       "4           0.0           0.0           0.0  ...           0.0           0.0   \n",
       "\n",
       "   countries_ZW  num_countries  num_email-domains  extension_academia  \\\n",
       "0           0.0            1.0                1.0                 1.0   \n",
       "1           0.0            1.0                1.0                 1.0   \n",
       "2           0.0            1.0                1.0                 0.0   \n",
       "3           0.0            1.0                3.0                 1.0   \n",
       "4           0.0            1.0                2.0                 1.0   \n",
       "\n",
       "   extension_country  extension_organization  extension_company  \\\n",
       "0                0.0                     0.0                0.0   \n",
       "1                0.0                     0.0                0.0   \n",
       "2                0.0                     1.0                0.0   \n",
       "3                0.0                     0.0                1.0   \n",
       "4                0.0                     0.0                0.0   \n",
       "\n",
       "   extension_private  \n",
       "0                0.0  \n",
       "1                0.0  \n",
       "2                0.0  \n",
       "3                0.0  \n",
       "4                0.0  \n",
       "\n",
       "[5 rows x 129 columns]"
      ]
     },
     "execution_count": 60,
     "metadata": {},
     "output_type": "execute_result"
    }
   ],
   "source": [
    "data.head()"
   ]
  },
  {
   "cell_type": "markdown",
   "id": "99f2b791-2665-4442-8f26-c3bb51ba274d",
   "metadata": {},
   "source": [
    "#### New Reduced Dataset\n",
    "\n",
    "I create a new dataset in which we have an entry for each expert, with the following (aggregated) features:\n",
    "\n",
    "- `person_id`: person id or hash; all the other features are related to that person/expert\n",
    "- `num_searches`: number of times the expert appears in the original (preprocessed) dataset\n",
    "- `ranking_min`: minimum search ranking position value in the original (preprocessed) dataset\n",
    "- `ranking_max`: maximum search ranking position value in the original (preprocessed) dataset\n",
    "- `ranking_median`: median search ranking position value in the original (preprocessed) dataset\n",
    "- `outreach_min`: minimum outreach success value in the original (preprocessed) dataset\n",
    "- `outreach_max`: maximum outreach success value in the original (preprocessed) dataset\n",
    "- `num_emails`: number of emails the expert/person\n",
    "- `num_countries`: number of countries associated to the expert/person\n",
    "- `extension_*`: email extension types associate to the expert/person (5 columns: academia, country, etc.)\n",
    "- `country_*`: countries associated to the expert/person (117 columns: UK, US, ..., etc.)"
   ]
  },
  {
   "cell_type": "code",
   "execution_count": 61,
   "id": "3fe31c34-7295-4b73-85a8-5d6b2a2f485e",
   "metadata": {},
   "outputs": [
    {
     "name": "stdout",
     "output_type": "stream",
     "text": [
      "Index(['--0thaA7rneCMDYAVlzh2w_0000', '--9CXiA-i3-GLAtPrjBqQQ_0000',\n",
      "       '-13B7zGE0jfD8BP1ZCnmwg_0000', '-16Mclmc2cZOcJ0-vw52oA_0000',\n",
      "       '-1IIFTLlBmVHkQBWojRkWw_0000', '-22S41RxUbnw4w0AnA5B4g_0000',\n",
      "       '-28IevIMxIl4ulsqND6Ujw_0000', '-2BiY25kMtNEs2epfMxptQ_0000',\n",
      "       '-3WodEdm5WeDJRJLLQa4QA_0000', '-3lsDr9syOp1AO0VS-6Z4w_0000',\n",
      "       ...\n",
      "       'zr2Kv2CPD5bFDPrQsQFT2Q_0000', 'ztiqNOjjKBBlSojpN4vFUA_0000',\n",
      "       'zu14RMvWAzgBqcRAb0yghQ_0000', 'zu6PH5ukpyTcg9ZuPb9OUw_0000',\n",
      "       'zuQM6-S3799zqBJ300643A_0000', 'zv3zprP8c60BsPhRcusSPw_0000',\n",
      "       'zvfTrr8WvT5ZdiBKu2TJZA_0000', 'zySQFPs7rNvHQ9Vm2dhL2A_0000',\n",
      "       'zyxxCMp7HI1PGBIS7DB1EQ_0000', 'zz0o0N3XyaEZcdlVbLEXvg_0000'],\n",
      "      dtype='object', name='person-id', length=167095)\n"
     ]
    }
   ],
   "source": [
    "# Person id index for the reduced dataset\n",
    "# Note that groupby yields sorted values by default,\n",
    "# but I explicitly request it so that it's clear and to avoid version issues\n",
    "index = data.drop('search-id', axis=1).groupby('person-id', sort=True)['person-id'].count().index\n",
    "print(index)"
   ]
  },
  {
   "cell_type": "code",
   "execution_count": 62,
   "id": "22a6a7ab-d0f8-47a4-b750-fa2e5ba2b3db",
   "metadata": {},
   "outputs": [
    {
     "data": {
      "text/plain": [
       "array([2, 1, 1, ..., 2, 2, 3])"
      ]
     },
     "execution_count": 62,
     "metadata": {},
     "output_type": "execute_result"
    }
   ],
   "source": [
    "data.groupby('person-id')['person-id'].count().values"
   ]
  },
  {
   "cell_type": "code",
   "execution_count": 63,
   "id": "72efae72-8973-438d-a20a-731a035a67dc",
   "metadata": {},
   "outputs": [],
   "source": [
    "def create_experts_dataset(data):\n",
    "    \"\"\"Given a preprocessed dataset, create a new reduced\n",
    "    data frame which has a single entry for each expert with their\n",
    "    aggregate values.\n",
    "    \n",
    "    NOTE: This function can be currently used\n",
    "    with the present preprocessed dataset.\n",
    "    I coukd be factored to be more re-usable, e.g.,\n",
    "    by passing a dictionary which maps column names\n",
    "    in the input data frame with output column names\n",
    "    and the required aggregate functions.\n",
    "    \n",
    "    Arguments:\n",
    "        data: preprocessed dataframe\n",
    "    Returns:\n",
    "        df_experts: dataframe reduced to expert aggregated values\n",
    "    \"\"\"\n",
    "    # Empty data frame\n",
    "    df_experts = pd.DataFrame()\n",
    "    \n",
    "    # Single columns\n",
    "    # Note that groupby yields sorted values by default,\n",
    "    # but I explicitly request it so that it's clear and to avoid version issues\n",
    "    groups = data.groupby('person-id', sort=True)\n",
    "    df_experts['person_id'] = groups['person-id'].count().index\n",
    "    df_experts['num_searches'] = groups['person-id'].count().values\n",
    "    df_experts['ranking_min'] = groups['search-ranking'].min().values\n",
    "    df_experts['ranking_max'] = groups['search-ranking'].max().values\n",
    "    df_experts['ranking_median'] = groups['search-ranking'].median().values\n",
    "    df_experts['outreach_min'] = groups['outreach-success'].min().values\n",
    "    df_experts['outreach_max'] = groups['outreach-success'].max().values\n",
    "    df_experts['num_emails'] = groups['num_email-domains'].max().values\n",
    "    df_experts['num_countries'] = groups['num_countries'].max().values\n",
    "    \n",
    "    # One-hot encoded columns\n",
    "    col_countries = [col for col in data.columns if col.startswith('countries_')]\n",
    "    col_extensions = [col for col in data.columns if col.startswith('extension_')]\n",
    "    df_tmp_contries = pd.DataFrame(groups[col_countries].max().values,\n",
    "                                   columns = col_countries)\n",
    "    df_tmp_extensions = pd.DataFrame(groups[col_extensions].max().values,\n",
    "                                     columns = col_extensions)\n",
    "    \n",
    "    # Concatenate single & one-hot encoded data frames\n",
    "    df_experts = pd.concat([df_experts,df_tmp_extensions,df_tmp_contries],\n",
    "                           axis=1)\n",
    "    \n",
    "    return df_experts"
   ]
  },
  {
   "cell_type": "code",
   "execution_count": 64,
   "id": "12ddae39-a6f1-40a7-8c3c-cdc73640a129",
   "metadata": {},
   "outputs": [],
   "source": [
    "df_experts = create_experts_dataset(data)"
   ]
  },
  {
   "cell_type": "code",
   "execution_count": 65,
   "id": "029b4a68-e389-4046-a08e-9607ba8aad93",
   "metadata": {},
   "outputs": [
    {
     "data": {
      "text/html": [
       "<div>\n",
       "<style scoped>\n",
       "    .dataframe tbody tr th:only-of-type {\n",
       "        vertical-align: middle;\n",
       "    }\n",
       "\n",
       "    .dataframe tbody tr th {\n",
       "        vertical-align: top;\n",
       "    }\n",
       "\n",
       "    .dataframe thead th {\n",
       "        text-align: right;\n",
       "    }\n",
       "</style>\n",
       "<table border=\"1\" class=\"dataframe\">\n",
       "  <thead>\n",
       "    <tr style=\"text-align: right;\">\n",
       "      <th></th>\n",
       "      <th>person_id</th>\n",
       "      <th>num_searches</th>\n",
       "      <th>ranking_min</th>\n",
       "      <th>ranking_max</th>\n",
       "      <th>ranking_median</th>\n",
       "      <th>outreach_min</th>\n",
       "      <th>outreach_max</th>\n",
       "      <th>num_emails</th>\n",
       "      <th>num_countries</th>\n",
       "      <th>extension_academia</th>\n",
       "      <th>...</th>\n",
       "      <th>countries_TW</th>\n",
       "      <th>countries_TZ</th>\n",
       "      <th>countries_UA</th>\n",
       "      <th>countries_US</th>\n",
       "      <th>countries_UY</th>\n",
       "      <th>countries_VC</th>\n",
       "      <th>countries_VE</th>\n",
       "      <th>countries_VN</th>\n",
       "      <th>countries_ZA</th>\n",
       "      <th>countries_ZW</th>\n",
       "    </tr>\n",
       "  </thead>\n",
       "  <tbody>\n",
       "    <tr>\n",
       "      <th>0</th>\n",
       "      <td>--0thaA7rneCMDYAVlzh2w_0000</td>\n",
       "      <td>2</td>\n",
       "      <td>228</td>\n",
       "      <td>292</td>\n",
       "      <td>260.0</td>\n",
       "      <td>0</td>\n",
       "      <td>0</td>\n",
       "      <td>1.0</td>\n",
       "      <td>1.0</td>\n",
       "      <td>0.0</td>\n",
       "      <td>...</td>\n",
       "      <td>0.0</td>\n",
       "      <td>0.0</td>\n",
       "      <td>0.0</td>\n",
       "      <td>1.0</td>\n",
       "      <td>0.0</td>\n",
       "      <td>0.0</td>\n",
       "      <td>0.0</td>\n",
       "      <td>0.0</td>\n",
       "      <td>0.0</td>\n",
       "      <td>0.0</td>\n",
       "    </tr>\n",
       "    <tr>\n",
       "      <th>1</th>\n",
       "      <td>--9CXiA-i3-GLAtPrjBqQQ_0000</td>\n",
       "      <td>1</td>\n",
       "      <td>1668</td>\n",
       "      <td>1668</td>\n",
       "      <td>1668.0</td>\n",
       "      <td>0</td>\n",
       "      <td>0</td>\n",
       "      <td>2.0</td>\n",
       "      <td>1.0</td>\n",
       "      <td>0.0</td>\n",
       "      <td>...</td>\n",
       "      <td>0.0</td>\n",
       "      <td>0.0</td>\n",
       "      <td>0.0</td>\n",
       "      <td>1.0</td>\n",
       "      <td>0.0</td>\n",
       "      <td>0.0</td>\n",
       "      <td>0.0</td>\n",
       "      <td>0.0</td>\n",
       "      <td>0.0</td>\n",
       "      <td>0.0</td>\n",
       "    </tr>\n",
       "    <tr>\n",
       "      <th>2</th>\n",
       "      <td>-13B7zGE0jfD8BP1ZCnmwg_0000</td>\n",
       "      <td>1</td>\n",
       "      <td>2938</td>\n",
       "      <td>2938</td>\n",
       "      <td>2938.0</td>\n",
       "      <td>0</td>\n",
       "      <td>0</td>\n",
       "      <td>1.0</td>\n",
       "      <td>1.0</td>\n",
       "      <td>0.0</td>\n",
       "      <td>...</td>\n",
       "      <td>0.0</td>\n",
       "      <td>0.0</td>\n",
       "      <td>0.0</td>\n",
       "      <td>1.0</td>\n",
       "      <td>0.0</td>\n",
       "      <td>0.0</td>\n",
       "      <td>0.0</td>\n",
       "      <td>0.0</td>\n",
       "      <td>0.0</td>\n",
       "      <td>0.0</td>\n",
       "    </tr>\n",
       "    <tr>\n",
       "      <th>3</th>\n",
       "      <td>-16Mclmc2cZOcJ0-vw52oA_0000</td>\n",
       "      <td>3</td>\n",
       "      <td>153</td>\n",
       "      <td>2552</td>\n",
       "      <td>156.0</td>\n",
       "      <td>0</td>\n",
       "      <td>0</td>\n",
       "      <td>3.0</td>\n",
       "      <td>1.0</td>\n",
       "      <td>1.0</td>\n",
       "      <td>...</td>\n",
       "      <td>0.0</td>\n",
       "      <td>0.0</td>\n",
       "      <td>0.0</td>\n",
       "      <td>1.0</td>\n",
       "      <td>0.0</td>\n",
       "      <td>0.0</td>\n",
       "      <td>0.0</td>\n",
       "      <td>0.0</td>\n",
       "      <td>0.0</td>\n",
       "      <td>0.0</td>\n",
       "    </tr>\n",
       "    <tr>\n",
       "      <th>4</th>\n",
       "      <td>-1IIFTLlBmVHkQBWojRkWw_0000</td>\n",
       "      <td>5</td>\n",
       "      <td>798</td>\n",
       "      <td>898</td>\n",
       "      <td>804.0</td>\n",
       "      <td>0</td>\n",
       "      <td>0</td>\n",
       "      <td>1.0</td>\n",
       "      <td>1.0</td>\n",
       "      <td>0.0</td>\n",
       "      <td>...</td>\n",
       "      <td>0.0</td>\n",
       "      <td>0.0</td>\n",
       "      <td>0.0</td>\n",
       "      <td>1.0</td>\n",
       "      <td>0.0</td>\n",
       "      <td>0.0</td>\n",
       "      <td>0.0</td>\n",
       "      <td>0.0</td>\n",
       "      <td>0.0</td>\n",
       "      <td>0.0</td>\n",
       "    </tr>\n",
       "  </tbody>\n",
       "</table>\n",
       "<p>5 rows × 131 columns</p>\n",
       "</div>"
      ],
      "text/plain": [
       "                     person_id  num_searches  ranking_min  ranking_max  \\\n",
       "0  --0thaA7rneCMDYAVlzh2w_0000             2          228          292   \n",
       "1  --9CXiA-i3-GLAtPrjBqQQ_0000             1         1668         1668   \n",
       "2  -13B7zGE0jfD8BP1ZCnmwg_0000             1         2938         2938   \n",
       "3  -16Mclmc2cZOcJ0-vw52oA_0000             3          153         2552   \n",
       "4  -1IIFTLlBmVHkQBWojRkWw_0000             5          798          898   \n",
       "\n",
       "   ranking_median  outreach_min  outreach_max  num_emails  num_countries  \\\n",
       "0           260.0             0             0         1.0            1.0   \n",
       "1          1668.0             0             0         2.0            1.0   \n",
       "2          2938.0             0             0         1.0            1.0   \n",
       "3           156.0             0             0         3.0            1.0   \n",
       "4           804.0             0             0         1.0            1.0   \n",
       "\n",
       "   extension_academia  ...  countries_TW  countries_TZ  countries_UA  \\\n",
       "0                 0.0  ...           0.0           0.0           0.0   \n",
       "1                 0.0  ...           0.0           0.0           0.0   \n",
       "2                 0.0  ...           0.0           0.0           0.0   \n",
       "3                 1.0  ...           0.0           0.0           0.0   \n",
       "4                 0.0  ...           0.0           0.0           0.0   \n",
       "\n",
       "   countries_US  countries_UY  countries_VC  countries_VE  countries_VN  \\\n",
       "0           1.0           0.0           0.0           0.0           0.0   \n",
       "1           1.0           0.0           0.0           0.0           0.0   \n",
       "2           1.0           0.0           0.0           0.0           0.0   \n",
       "3           1.0           0.0           0.0           0.0           0.0   \n",
       "4           1.0           0.0           0.0           0.0           0.0   \n",
       "\n",
       "   countries_ZA  countries_ZW  \n",
       "0           0.0           0.0  \n",
       "1           0.0           0.0  \n",
       "2           0.0           0.0  \n",
       "3           0.0           0.0  \n",
       "4           0.0           0.0  \n",
       "\n",
       "[5 rows x 131 columns]"
      ]
     },
     "execution_count": 65,
     "metadata": {},
     "output_type": "execute_result"
    }
   ],
   "source": [
    "df_experts.head()"
   ]
  },
  {
   "cell_type": "code",
   "execution_count": 66,
   "id": "77850c64-bbc5-492d-973f-d5e25c81fd56",
   "metadata": {},
   "outputs": [],
   "source": [
    "# Persist the reduced experts dataset\n",
    "df_experts.to_csv('data/data_Nov_2022_reduced_experts.csv', sep=',', header=True, index=False)\n",
    "df_experts = pd.read_csv('data/data_Nov_2022_reduced_experts.csv')"
   ]
  },
  {
   "cell_type": "code",
   "execution_count": 67,
   "id": "29f896bd-2fa9-4efe-87e3-1300ff842deb",
   "metadata": {},
   "outputs": [
    {
     "data": {
      "text/html": [
       "<div>\n",
       "<style scoped>\n",
       "    .dataframe tbody tr th:only-of-type {\n",
       "        vertical-align: middle;\n",
       "    }\n",
       "\n",
       "    .dataframe tbody tr th {\n",
       "        vertical-align: top;\n",
       "    }\n",
       "\n",
       "    .dataframe thead th {\n",
       "        text-align: right;\n",
       "    }\n",
       "</style>\n",
       "<table border=\"1\" class=\"dataframe\">\n",
       "  <thead>\n",
       "    <tr style=\"text-align: right;\">\n",
       "      <th></th>\n",
       "      <th>person_id</th>\n",
       "      <th>num_searches</th>\n",
       "      <th>ranking_min</th>\n",
       "      <th>ranking_max</th>\n",
       "      <th>ranking_median</th>\n",
       "      <th>outreach_min</th>\n",
       "      <th>outreach_max</th>\n",
       "      <th>num_emails</th>\n",
       "      <th>num_countries</th>\n",
       "      <th>extension_academia</th>\n",
       "      <th>...</th>\n",
       "      <th>countries_TW</th>\n",
       "      <th>countries_TZ</th>\n",
       "      <th>countries_UA</th>\n",
       "      <th>countries_US</th>\n",
       "      <th>countries_UY</th>\n",
       "      <th>countries_VC</th>\n",
       "      <th>countries_VE</th>\n",
       "      <th>countries_VN</th>\n",
       "      <th>countries_ZA</th>\n",
       "      <th>countries_ZW</th>\n",
       "    </tr>\n",
       "  </thead>\n",
       "  <tbody>\n",
       "    <tr>\n",
       "      <th>0</th>\n",
       "      <td>--0thaA7rneCMDYAVlzh2w_0000</td>\n",
       "      <td>2</td>\n",
       "      <td>228</td>\n",
       "      <td>292</td>\n",
       "      <td>260.0</td>\n",
       "      <td>0</td>\n",
       "      <td>0</td>\n",
       "      <td>1.0</td>\n",
       "      <td>1.0</td>\n",
       "      <td>0.0</td>\n",
       "      <td>...</td>\n",
       "      <td>0.0</td>\n",
       "      <td>0.0</td>\n",
       "      <td>0.0</td>\n",
       "      <td>1.0</td>\n",
       "      <td>0.0</td>\n",
       "      <td>0.0</td>\n",
       "      <td>0.0</td>\n",
       "      <td>0.0</td>\n",
       "      <td>0.0</td>\n",
       "      <td>0.0</td>\n",
       "    </tr>\n",
       "    <tr>\n",
       "      <th>1</th>\n",
       "      <td>--9CXiA-i3-GLAtPrjBqQQ_0000</td>\n",
       "      <td>1</td>\n",
       "      <td>1668</td>\n",
       "      <td>1668</td>\n",
       "      <td>1668.0</td>\n",
       "      <td>0</td>\n",
       "      <td>0</td>\n",
       "      <td>2.0</td>\n",
       "      <td>1.0</td>\n",
       "      <td>0.0</td>\n",
       "      <td>...</td>\n",
       "      <td>0.0</td>\n",
       "      <td>0.0</td>\n",
       "      <td>0.0</td>\n",
       "      <td>1.0</td>\n",
       "      <td>0.0</td>\n",
       "      <td>0.0</td>\n",
       "      <td>0.0</td>\n",
       "      <td>0.0</td>\n",
       "      <td>0.0</td>\n",
       "      <td>0.0</td>\n",
       "    </tr>\n",
       "    <tr>\n",
       "      <th>2</th>\n",
       "      <td>-13B7zGE0jfD8BP1ZCnmwg_0000</td>\n",
       "      <td>1</td>\n",
       "      <td>2938</td>\n",
       "      <td>2938</td>\n",
       "      <td>2938.0</td>\n",
       "      <td>0</td>\n",
       "      <td>0</td>\n",
       "      <td>1.0</td>\n",
       "      <td>1.0</td>\n",
       "      <td>0.0</td>\n",
       "      <td>...</td>\n",
       "      <td>0.0</td>\n",
       "      <td>0.0</td>\n",
       "      <td>0.0</td>\n",
       "      <td>1.0</td>\n",
       "      <td>0.0</td>\n",
       "      <td>0.0</td>\n",
       "      <td>0.0</td>\n",
       "      <td>0.0</td>\n",
       "      <td>0.0</td>\n",
       "      <td>0.0</td>\n",
       "    </tr>\n",
       "    <tr>\n",
       "      <th>3</th>\n",
       "      <td>-16Mclmc2cZOcJ0-vw52oA_0000</td>\n",
       "      <td>3</td>\n",
       "      <td>153</td>\n",
       "      <td>2552</td>\n",
       "      <td>156.0</td>\n",
       "      <td>0</td>\n",
       "      <td>0</td>\n",
       "      <td>3.0</td>\n",
       "      <td>1.0</td>\n",
       "      <td>1.0</td>\n",
       "      <td>...</td>\n",
       "      <td>0.0</td>\n",
       "      <td>0.0</td>\n",
       "      <td>0.0</td>\n",
       "      <td>1.0</td>\n",
       "      <td>0.0</td>\n",
       "      <td>0.0</td>\n",
       "      <td>0.0</td>\n",
       "      <td>0.0</td>\n",
       "      <td>0.0</td>\n",
       "      <td>0.0</td>\n",
       "    </tr>\n",
       "    <tr>\n",
       "      <th>4</th>\n",
       "      <td>-1IIFTLlBmVHkQBWojRkWw_0000</td>\n",
       "      <td>5</td>\n",
       "      <td>798</td>\n",
       "      <td>898</td>\n",
       "      <td>804.0</td>\n",
       "      <td>0</td>\n",
       "      <td>0</td>\n",
       "      <td>1.0</td>\n",
       "      <td>1.0</td>\n",
       "      <td>0.0</td>\n",
       "      <td>...</td>\n",
       "      <td>0.0</td>\n",
       "      <td>0.0</td>\n",
       "      <td>0.0</td>\n",
       "      <td>1.0</td>\n",
       "      <td>0.0</td>\n",
       "      <td>0.0</td>\n",
       "      <td>0.0</td>\n",
       "      <td>0.0</td>\n",
       "      <td>0.0</td>\n",
       "      <td>0.0</td>\n",
       "    </tr>\n",
       "  </tbody>\n",
       "</table>\n",
       "<p>5 rows × 131 columns</p>\n",
       "</div>"
      ],
      "text/plain": [
       "                     person_id  num_searches  ranking_min  ranking_max  \\\n",
       "0  --0thaA7rneCMDYAVlzh2w_0000             2          228          292   \n",
       "1  --9CXiA-i3-GLAtPrjBqQQ_0000             1         1668         1668   \n",
       "2  -13B7zGE0jfD8BP1ZCnmwg_0000             1         2938         2938   \n",
       "3  -16Mclmc2cZOcJ0-vw52oA_0000             3          153         2552   \n",
       "4  -1IIFTLlBmVHkQBWojRkWw_0000             5          798          898   \n",
       "\n",
       "   ranking_median  outreach_min  outreach_max  num_emails  num_countries  \\\n",
       "0           260.0             0             0         1.0            1.0   \n",
       "1          1668.0             0             0         2.0            1.0   \n",
       "2          2938.0             0             0         1.0            1.0   \n",
       "3           156.0             0             0         3.0            1.0   \n",
       "4           804.0             0             0         1.0            1.0   \n",
       "\n",
       "   extension_academia  ...  countries_TW  countries_TZ  countries_UA  \\\n",
       "0                 0.0  ...           0.0           0.0           0.0   \n",
       "1                 0.0  ...           0.0           0.0           0.0   \n",
       "2                 0.0  ...           0.0           0.0           0.0   \n",
       "3                 1.0  ...           0.0           0.0           0.0   \n",
       "4                 0.0  ...           0.0           0.0           0.0   \n",
       "\n",
       "   countries_US  countries_UY  countries_VC  countries_VE  countries_VN  \\\n",
       "0           1.0           0.0           0.0           0.0           0.0   \n",
       "1           1.0           0.0           0.0           0.0           0.0   \n",
       "2           1.0           0.0           0.0           0.0           0.0   \n",
       "3           1.0           0.0           0.0           0.0           0.0   \n",
       "4           1.0           0.0           0.0           0.0           0.0   \n",
       "\n",
       "   countries_ZA  countries_ZW  \n",
       "0           0.0           0.0  \n",
       "1           0.0           0.0  \n",
       "2           0.0           0.0  \n",
       "3           0.0           0.0  \n",
       "4           0.0           0.0  \n",
       "\n",
       "[5 rows x 131 columns]"
      ]
     },
     "execution_count": 67,
     "metadata": {},
     "output_type": "execute_result"
    }
   ],
   "source": [
    "df_experts.head()"
   ]
  },
  {
   "cell_type": "markdown",
   "id": "6fc162c8-c090-4fbc-b187-5dc43be8f0b6",
   "metadata": {},
   "source": [
    "### 2.6 Data Processing: Findings and Next Steps\n",
    "\n",
    "\n",
    "Summary of findings, conclusions:\n",
    "\n",
    "- All entries contain 117 possible countries: we can encode them as dummy variables. Most entries have a unique country (see bar plot).\n",
    "\n",
    "- The number of emails per entry follows an exponential distribution; most entries have one email.\n",
    "\n",
    "- There are maybe too many unique emails (20,355) to encode them as dummy variables and use them effectively. Additionally, new entries would probably introduce new email domains. Therefore, I think it is more effective to extract information from the email domains; as a first approach, I have manually classified the extensions to belong to these groups: `academia`, `country`, `organization`, `company`, `private`. However, further information could be extracted, for instance web scrapping the site of each domain:\n",
    "\n",
    "    - Discipline: oncology, pediatrics, etc.\n",
    "    - Size of institution: small (<50), medium (50-150), large (>150)\n",
    "    - Type of center: university, research center, hospital/clinic, etc.\n",
    "    - Prestige/ranking of the institution\n",
    "    - ...\n",
    "\n",
    "- Note that in my manual encoding of email extension classes I have not classified all extensions (but only 98 / 226); there are some extensions which seem to be incorrect, or at least I'm not familiar with them. That deserves more investigation.\n",
    "\n",
    "- Most entries have an email with an extension related to the academia (see bar plot).\n",
    "\n",
    "- The searches are spread across all May 2021 work days. Probably no relevant information is contained in the timestamp; one exception to that assumption would be if each search is associated with different agents that contact expert candidates (i.e., because of the type of approaching, etc.). I assume that's not the case. However, the timestamp could be a relevant factor if it's spread across an entire year, because it would comprise a complete cycle in which stress and motivation oscillate. I hypothesize that those human factors affect the outreach success.\n",
    "\n",
    "- I have created a reduced experts dataset in which each expert/person has an entry with aggregate values. The reasoning behind reducing search result entries to expert entries is the following: \n",
    "\n",
    "    - I assume that each expert will get a generic contact email.\n",
    "    - The outreach success depends on the expert answering the contact.\n",
    "    - Carefully aggregating each expert search data makes sense, because it is the expert the factor which yields to successful contact, not the search.\n",
    "\n",
    "- There might be cases in which the reasoning (and the related assumptions) for the dataset reduction are incorrect, e.g., when the contact emails are not that generic, but customized.\n",
    "\n",
    "- There are 198 entries with person-id \"#NAME?\". We could fix those entries by grouping by `email-domains` and setting the `email-domain` as `person-id` instead of the id hash. However, I won't do that in order to avoid over-engineering. Additionally:\n",
    "\n",
    "    - Names/ids should/could be resolved upstream.\n",
    "    - Only one entry from those 198 has a successful outreach\n",
    "\n",
    "- The reduced dataset contains 167,095 entries, i.e., unique experts. Each entry has 131 columns.\n",
    "\n",
    "Next steps:\n",
    "\n",
    "- Segregate reduced dataset in outreach success / no success.\n",
    "- Explore differences: plots & hypothesis tests.\n",
    "\n",
    "Extra points:\n",
    "\n",
    "- Clustering of entries: after extracting more information from email domains we could perform a clustering of experts. Hypothesis: some clusters will have a significantly larger outreach success rate."
   ]
  },
  {
   "cell_type": "markdown",
   "id": "4379fe3b-f1fb-4f63-bbba-8d75701615f6",
   "metadata": {},
   "source": [
    "## 3. More Exploratory Data Analysis and Hypothesis Testing"
   ]
  },
  {
   "cell_type": "markdown",
   "id": "6536ee14-2c5e-461e-9305-160cfe876ef4",
   "metadata": {},
   "source": [
    "We have carried out several exploratory analyses while pre-processing the dataset, but we can further explore questions using the reduced experts data frame.\n",
    "\n",
    "Goals:\n",
    "\n",
    "- Segregate the dataset in splits with experts associated *with a successful outreach* and a experts *without*.\n",
    "- Answer interesting questions.\n",
    "- Perform hypothesis tests: compare the features of both splits."
   ]
  },
  {
   "cell_type": "code",
   "execution_count": 68,
   "id": "93ec5aef-492f-4f32-9f86-85c2226d069b",
   "metadata": {},
   "outputs": [
    {
     "data": {
      "text/plain": [
       "(167095, 131)"
      ]
     },
     "execution_count": 68,
     "metadata": {},
     "output_type": "execute_result"
    }
   ],
   "source": [
    "df_experts.shape"
   ]
  },
  {
   "cell_type": "code",
   "execution_count": 69,
   "id": "56d6570d-fa86-434d-89c9-ad69e02a75d3",
   "metadata": {},
   "outputs": [],
   "source": [
    "# Split with negative outreach (nosuccess)\n",
    "df_experts_0 = df_experts[df_experts['outreach_max']<1]\n",
    "# Split with positive outreach (success)\n",
    "df_experts_1 = df_experts[df_experts['outreach_max']>0]"
   ]
  },
  {
   "cell_type": "code",
   "execution_count": 70,
   "id": "e5106bf8-2bc4-4d09-a6d7-754e27cd4b77",
   "metadata": {},
   "outputs": [
    {
     "data": {
      "text/plain": [
       "(165575, 131)"
      ]
     },
     "execution_count": 70,
     "metadata": {},
     "output_type": "execute_result"
    }
   ],
   "source": [
    "# Experts without successful outreach: 165575\n",
    "df_experts_0.shape"
   ]
  },
  {
   "cell_type": "code",
   "execution_count": 71,
   "id": "66b43263-71fa-4bcb-9ea5-e353ed2bf82f",
   "metadata": {},
   "outputs": [
    {
     "data": {
      "text/plain": [
       "(1520, 131)"
      ]
     },
     "execution_count": 71,
     "metadata": {},
     "output_type": "execute_result"
    }
   ],
   "source": [
    "# Experts with successful outreach: 1520\n",
    "df_experts_1.shape"
   ]
  },
  {
   "cell_type": "code",
   "execution_count": 72,
   "id": "3b08c732-fe34-4e61-80c3-bb612eea46d6",
   "metadata": {},
   "outputs": [
    {
     "name": "stdout",
     "output_type": "stream",
     "text": [
      "Ratio of experts that are associated with a successful outreach: 0.009096621682276549\n"
     ]
    }
   ],
   "source": [
    "print(f'Ratio of experts that are associated with a successful outreach: {df_experts_1.shape[0]/df_experts.shape[0]}')"
   ]
  },
  {
   "cell_type": "code",
   "execution_count": 73,
   "id": "769ee4be-8755-479c-952a-8c806dca38eb",
   "metadata": {},
   "outputs": [
    {
     "data": {
      "text/plain": [
       "(1117, 131)"
      ]
     },
     "execution_count": 73,
     "metadata": {},
     "output_type": "execute_result"
    }
   ],
   "source": [
    "# Experts who have both a negative and a positive outreach outcome\n",
    "df_experts[(df_experts['outreach_max'] > 0) & (df_experts['outreach_min'] < 1)].shape"
   ]
  },
  {
   "cell_type": "code",
   "execution_count": 74,
   "id": "c8dd8f83-1ed9-437f-9f39-d40e12e245a1",
   "metadata": {},
   "outputs": [
    {
     "data": {
      "text/plain": [
       "(403, 131)"
      ]
     },
     "execution_count": 74,
     "metadata": {},
     "output_type": "execute_result"
    }
   ],
   "source": [
    "# Experts who have only a positive outreach outcome\n",
    "df_experts[(df_experts['outreach_max'] > 0) & (df_experts['outreach_min'] > 0)].shape"
   ]
  },
  {
   "cell_type": "markdown",
   "id": "375aa638-9154-4297-9eb8-80f039626cbf",
   "metadata": {},
   "source": [
    "#### Ranking Distributions"
   ]
  },
  {
   "cell_type": "code",
   "execution_count": 75,
   "id": "1bd0c7cc-ffd6-4b61-bcdf-fe94d4306485",
   "metadata": {},
   "outputs": [
    {
     "data": {
      "image/png": "[encoded data removed]",
      "text/plain": [
       "<Figure size 1000x500 with 1 Axes>"
      ]
     },
     "metadata": {},
     "output_type": "display_data"
    }
   ],
   "source": [
    "# Plot histograms of ranking rate distributions for splits of positive outreach\n",
    "# and of negative outreach.\n",
    "# Note: histograms are normalized.\n",
    "# For all ranking rate aggregates (min, max, median), the normalized distributions seem very similar.\n",
    "plt.figure(figsize=(10,5))\n",
    "feature = 'ranking_min'\n",
    "median_positive = df_experts_1[feature].median()\n",
    "median_negative = df_experts_0[feature].median()\n",
    "sns.histplot(df_experts_0[feature], bins=80, color='red', alpha=0.5, stat='probability')\n",
    "sns.histplot(df_experts_1[feature], bins=80, color='blue', alpha=0.5, stat='probability')\n",
    "plt.legend([f'Negative outreach, n = {df_experts_0.shape[0]}, Md = {median_positive}',\n",
    "            f'Positive outreach, n = {df_experts_1.shape[0]}, Md = {median_negative}'])\n",
    "plt.plot([median_positive, median_positive], [0,0.09], color='blue', linestyle='--')\n",
    "plt.plot([median_negative, median_negative], [0,0.09], color='red', linestyle='--')\n",
    "plt.xlabel(f'Search ranking ({feature}: best ranking rate)')\n",
    "plt.title(f'Search ranking distribution ({feature}: best ranking rate)')\n",
    "plt.savefig('./assets/search_ranking_distribution.png',\n",
    "            dpi=300, transparent=False, bbox_inches='tight')"
   ]
  },
  {
   "cell_type": "markdown",
   "id": "afd916b2-d047-4c14-a86e-5d5159a928f0",
   "metadata": {},
   "source": [
    "#### Box Plots"
   ]
  },
  {
   "cell_type": "code",
   "execution_count": 76,
   "id": "0af3e1b8-db22-41ca-a091-901b04fb3a21",
   "metadata": {},
   "outputs": [
    {
     "data": {
      "image/png": "[encoded data removed]",
      "text/plain": [
       "<Figure size 600x400 with 1 Axes>"
      ]
     },
     "metadata": {},
     "output_type": "display_data"
    },
    {
     "data": {
      "image/png": "[encoded data removed]",
      "text/plain": [
       "<Figure size 600x400 with 1 Axes>"
      ]
     },
     "metadata": {},
     "output_type": "display_data"
    },
    {
     "data": {
      "image/png": "[encoded data removed]",
      "text/plain": [
       "<Figure size 600x400 with 1 Axes>"
      ]
     },
     "metadata": {},
     "output_type": "display_data"
    },
    {
     "data": {
      "image/png": "[encoded data removed]",
      "text/plain": [
       "<Figure size 600x400 with 1 Axes>"
      ]
     },
     "metadata": {},
     "output_type": "display_data"
    },
    {
     "data": {
      "image/png": "[encoded data removed]",
      "text/plain": [
       "<Figure size 600x400 with 1 Axes>"
      ]
     },
     "metadata": {},
     "output_type": "display_data"
    },
    {
     "data": {
      "image/png": "[encoded data removed]",
      "text/plain": [
       "<Figure size 600x400 with 1 Axes>"
      ]
     },
     "metadata": {},
     "output_type": "display_data"
    }
   ],
   "source": [
    "# Boxplots\n",
    "# Variables that seem to be associated with significant differences:\n",
    "# - num_searches: number of times an expert has appeared\n",
    "# - num_emails: number of emails available for an expert\n",
    "numerical_features = ['num_searches', 'ranking_min', 'ranking_max', 'ranking_median', 'num_emails', 'num_countries']\n",
    "for var in numerical_features:\n",
    "    sns.catplot(x='outreach_max', y=var, data=df_experts, kind=\"box\", height=4, aspect=1.5)\n",
    "    # Data points\n",
    "    sns.stripplot(x='outreach_max', y=var, data=df_experts, jitter=0.1, alpha=0.1, color='k')\n",
    "    plt.title(f'Boxplot of {var} \\nin terms of successful (1) or unsuccessful (0) outreach')\n",
    "    plt.show()"
   ]
  },
  {
   "cell_type": "markdown",
   "id": "67663971-6b0b-4323-bfaf-c5afe84ace27",
   "metadata": {},
   "source": [
    "#### Bar Plots"
   ]
  },
  {
   "cell_type": "code",
   "execution_count": 77,
   "id": "ae9d8c87-9a46-4d83-8250-e53803e599d2",
   "metadata": {},
   "outputs": [],
   "source": [
    "# One-hot encoded columns\n",
    "col_countries = [col for col in df_experts.columns if col.startswith('countries_')]\n",
    "col_extensions = [col for col in df_experts.columns if col.startswith('extension_')]"
   ]
  },
  {
   "cell_type": "code",
   "execution_count": 78,
   "id": "1eeee135-a8b1-452d-be92-11479697ed71",
   "metadata": {},
   "outputs": [
    {
     "data": {
      "image/png": "[encoded data removed]",
      "text/plain": [
       "<Figure size 500x500 with 1 Axes>"
      ]
     },
     "metadata": {},
     "output_type": "display_data"
    },
    {
     "data": {
      "image/png": "[encoded data removed]",
      "text/plain": [
       "<Figure size 500x500 with 1 Axes>"
      ]
     },
     "metadata": {},
     "output_type": "display_data"
    },
    {
     "data": {
      "image/png": "[encoded data removed]",
      "text/plain": [
       "<Figure size 500x500 with 1 Axes>"
      ]
     },
     "metadata": {},
     "output_type": "display_data"
    },
    {
     "data": {
      "image/png": "[encoded data removed]",
      "text/plain": [
       "<Figure size 500x500 with 1 Axes>"
      ]
     },
     "metadata": {},
     "output_type": "display_data"
    },
    {
     "data": {
      "image/png": "[encoded data removed]",
      "text/plain": [
       "<Figure size 500x500 with 1 Axes>"
      ]
     },
     "metadata": {},
     "output_type": "display_data"
    }
   ],
   "source": [
    "# Bar plots\n",
    "# Apparent signifficant diffrences:\n",
    "# - extension_academia\n",
    "# - extension_country\n",
    "# - extension_organization\n",
    "#binary_features = col_countries + col_extensions\n",
    "binary_features = col_extensions\n",
    "for var in binary_features:\n",
    "    plt.figure(figsize=(5,5))\n",
    "    sns.barplot(x='outreach_max', y=var, data=df_experts, estimator=np.mean)\n",
    "    plt.title(f'Bar plot of {var} \\nin terms of successful (1) or unsuccessful (0) outreach')\n",
    "    plt.show()"
   ]
  },
  {
   "cell_type": "markdown",
   "id": "ef6938ed-72b7-4a74-bc1a-c8cac33037dc",
   "metadata": {},
   "source": [
    "### 3.2 Hypothesis Tests"
   ]
  },
  {
   "cell_type": "markdown",
   "id": "a1e9674e-8726-4084-b29d-8dd1da9cbf34",
   "metadata": {},
   "source": [
    "I will carry out hypothesis tests (T Tests and Z Tests) and plot the statistics to see which are the features that most affect on the positive outreach.\n",
    "\n",
    "Hypothesis testing helps identifying whether two samples belong to the same population by comparing their means (e.g., T Test) or proportions (Z Test). A significance level is chosen, `alpha`, and if the probability of the computed statstic yields a smaller `p-value`, both samples are considered to be different. Usually `alpha = 0.05`, which is associated with a `T` or `Z` value close to 2.\n",
    "\n",
    "Note that in a formal setting we should check that the assumptions/requirements for applying the tests are met (normal distributions, etc.); however, here I skip that step to simplify the solution.\n",
    "\n",
    "The computation is the following:\n",
    "\n",
    "- For each feature, we split the dataset in entries with positve and negative outreach.\n",
    "- For each feature, we compute the T/Z statstic, which captures the mean/proportion differences scaled by the standard error.\n",
    "- If the absolute value of the statistic is large (> 2, i.e., p < 0.05, aprox.), the analyzed feature has two distinct distirbutions for positive and negative outreach.\n"
   ]
  },
  {
   "cell_type": "markdown",
   "id": "5a724c07-eb18-4a0f-b283-bcacdc9d2567",
   "metadata": {},
   "source": [
    "#### Auxiliary Functions: T Test, Z Test"
   ]
  },
  {
   "cell_type": "code",
   "execution_count": 79,
   "id": "989e9adf-aceb-4de2-be43-666a8e0fc26b",
   "metadata": {},
   "outputs": [],
   "source": [
    "def z_test(subset1, subset2):\n",
    "    '''This function computes the Z Test of two population proportions.\n",
    "    \n",
    "    H0: The proportions are the same.\n",
    "    Ha: The proportions are different (two-sided).\n",
    "    \n",
    "    Arguments:\n",
    "        subset1: data frame with values to analyze for subset/group 1\n",
    "        subset1: data frame with values to analyze for subset/group 2\n",
    "    Returns:\n",
    "        z_stat: Z statistic; if very negative, subset1 has a considerebly smaller proportion\n",
    "        p_value: if < alpha = 0.05, the difference is significant, the two proportions are different\n",
    "    '''\n",
    "    # Sample sizes\n",
    "    n1 = subset1.shape[0]\n",
    "    n2 = subset2.shape[0]\n",
    "    \n",
    "    # Number of positive values\n",
    "    y1 = subset1.sum()\n",
    "    y2 = subset2.sum()\n",
    "\n",
    "    # Estimates of the population proportions\n",
    "    p1 = np.round(y1 / n1, 2)\n",
    "    p2 = np.round(y2 / n2, 2)\n",
    "    \n",
    "    if p1 == p2:\n",
    "        print('Warning: same proportions!')\n",
    "\n",
    "    # Estimate of the combined population proportion\n",
    "    phat = (y1 + y2) / (n1 + n2)\n",
    "\n",
    "    # Estimate of the variance of the combined population proportion\n",
    "    va = phat * (1 - phat)\n",
    "\n",
    "    # Estimate of the standard error of the combined population proportion\n",
    "    se = np.sqrt(va * ((1.0 / n1) + (1.0 / n2)))\n",
    "\n",
    "    # Test statistic and its p-value: 2-sided, because the Ha is !=\n",
    "    z_stat = (p1 - p2) / se\n",
    "    p_value = 2*dist.norm.cdf(-np.abs(z_stat))\n",
    "    # Equivalent to\n",
    "    # p_value = 2*(1-dist.norm.cdf(np.abs(z_stat)))\n",
    "\n",
    "    return (z_stat, p_value, p1, p2)"
   ]
  },
  {
   "cell_type": "code",
   "execution_count": 80,
   "id": "0dfc1c44-40db-45fb-af23-f7873b844d1b",
   "metadata": {},
   "outputs": [],
   "source": [
    "def t_test(subset1, subset2):\n",
    "    '''This function computes the T Test of two population means.\n",
    "    \n",
    "    H0: The means are the same.\n",
    "    Ha: The means are different (two-sided).\n",
    "\n",
    "    Arguments:\n",
    "        subset1: data frame with values to analyze for subset/group 1\n",
    "        subset1: data frame with values to analyze for subset/group 2\n",
    "    Returns:\n",
    "        t_stat: T statistic; if very negative, subset1 has a considerebly smaller mean\n",
    "        p_value: if < alpha = 0.05, the difference is significant, the two distribution means are different\n",
    "    '''\n",
    "    \n",
    "    # Sample sizes    \n",
    "    n1 = subset1.shape[0]\n",
    "    n2 = subset2.shape[0]\n",
    "    \n",
    "    # Means\n",
    "    m1 = subset1.mean()\n",
    "    m2 = subset2.mean()\n",
    "\n",
    "    # Standard Deviations\n",
    "    sd1 = subset1.std()\n",
    "    sd2 = subset2.std()\n",
    "\n",
    "    # Standard Error\n",
    "    if sd1/sd2 < 2.0 or sd2/sd1 < 2.0:\n",
    "        # Similar variances: Pooled\n",
    "        se = np.sqrt(((sd1**2)/n1) + ((sd2**2)/n2))\n",
    "    else:\n",
    "        # Different variances: Unpooled\n",
    "        se = np.sqrt(((n1-1)*sd1**2 + (n2-1)*sd2**2)/(n1+n2-2)) * np.sqrt((1/n1) + (1/n2))\n",
    "    \n",
    "    # T statistic\n",
    "    t_stat = (m1 - m2)/se    \n",
    "    # With T and df, we can get the p-value from the T distribution\n",
    "    df = n1 + n2 - 2\n",
    "    # p-value is obtained form the cummulative density function (CDF) with the given df\n",
    "    # since we want the remaining are under the PDF, we need to compute 1-CDF(t)\n",
    "    # Since it is a 2-sided test (Ha !=), we need to x2 the p-value\n",
    "    p_value = 2*(1 - dist.t.cdf(np.abs(t_stat),df=df))\n",
    "    \n",
    "    return (t_stat, p_value, m1, m2)"
   ]
  },
  {
   "cell_type": "markdown",
   "id": "ceda8a24-59ec-4978-888c-0fa1139f92e8",
   "metadata": {},
   "source": [
    "#### Hypothesis Tests"
   ]
  },
  {
   "cell_type": "code",
   "execution_count": 81,
   "id": "73465383-ab36-49c7-a9f5-4feb61a87ccd",
   "metadata": {},
   "outputs": [
    {
     "name": "stdout",
     "output_type": "stream",
     "text": [
      "Warning: same proportions!\n",
      "Warning: same proportions!\n",
      "Warning: same proportions!\n",
      "Warning: same proportions!\n",
      "Warning: same proportions!\n",
      "Warning: same proportions!\n",
      "Warning: same proportions!\n"
     ]
    }
   ],
   "source": [
    "features = col_countries + col_extensions + numerical_features\n",
    "features_in_both_groups = []\n",
    "features_in_one_group = []\n",
    "feature_stats = {}\n",
    "feature_ps = {}\n",
    "\n",
    "for feat in features:\n",
    "    # Select subsets\n",
    "    subset1 = df_experts_0[feat]\n",
    "    subset2 = df_experts_1[feat]\n",
    "\n",
    "    if subset1.sum() > 0 and subset2.sum() > 0:\n",
    "        # Decide T-test / Z-test\n",
    "        if len(subset1.value_counts()) > 2:\n",
    "            # T-test\n",
    "            (stat, p_value, m1, m2) = t_test(subset1, subset2)    \n",
    "        else:\n",
    "            # Z-test\n",
    "            (stat, p_value, p1, p2) = z_test(subset1, subset2)\n",
    "        # Save values\n",
    "        features_in_both_groups.append(feat)\n",
    "        feature_stats[feat] = stat\n",
    "        feature_ps[feat] = p_value\n",
    "    else:\n",
    "        features_in_one_group.append(feat)"
   ]
  },
  {
   "cell_type": "code",
   "execution_count": 82,
   "id": "e9ee4fb5-aca6-498e-b1a1-91271a88ba3e",
   "metadata": {},
   "outputs": [],
   "source": [
    "# Create data frame with stats\n",
    "feature_differences = pd.DataFrame.from_dict(feature_stats, orient='index')\n",
    "feature_differences.columns = ['stat']"
   ]
  },
  {
   "cell_type": "code",
   "execution_count": 83,
   "id": "02819b59-ad9c-4910-a918-b48511efdcca",
   "metadata": {},
   "outputs": [
    {
     "data": {
      "text/plain": [
       "(25, 1)"
      ]
     },
     "execution_count": 83,
     "metadata": {},
     "output_type": "execute_result"
    }
   ],
   "source": [
    "# Features compared: 25\n",
    "feature_differences.shape"
   ]
  },
  {
   "cell_type": "code",
   "execution_count": 84,
   "id": "9ecc9f13-fcca-487c-b2a2-3b36f0e8b79a",
   "metadata": {},
   "outputs": [
    {
     "data": {
      "text/plain": [
       "103"
      ]
     },
     "execution_count": 84,
     "metadata": {},
     "output_type": "execute_result"
    }
   ],
   "source": [
    "# Features that appeared in a unique split, so could not be compared: 103\n",
    "len(features_in_one_group)"
   ]
  },
  {
   "cell_type": "code",
   "execution_count": 85,
   "id": "46034226-3918-403b-b4e3-9672c152afaf",
   "metadata": {},
   "outputs": [],
   "source": [
    "# Take only absolute stat value\n",
    "# but save the stat sign; positive sign means first group has larger aggregate (proportion/mean)\n",
    "feature_differences['plus'] = feature_differences['stat'].apply(lambda col: 1 if col > 0 else 0)\n",
    "feature_differences['stat'] = np.abs(feature_differences['stat'])"
   ]
  },
  {
   "cell_type": "code",
   "execution_count": 89,
   "id": "91a8e862-b9f9-46b7-a32c-9982c8714a91",
   "metadata": {},
   "outputs": [
    {
     "data": {
      "image/png": "[encoded data removed]",
      "text/plain": [
       "<Figure size 400x400 with 1 Axes>"
      ]
     },
     "metadata": {},
     "output_type": "display_data"
    }
   ],
   "source": [
    "# Pick top k features with largest stats\n",
    "# Plot their abs stat value; color-code the stat sign\n",
    "# Draw the stat = 2 line, related to the significance level difference\n",
    "top_features = 18\n",
    "plt.figure(figsize=(4,4))\n",
    "feature_differences.sort_values(by='stat', ascending=True, inplace=True)\n",
    "color_list = ['b' if el > 0 else 'r' for el in [feature_differences['plus'].iloc[i] for i in range(feature_differences['plus'].shape[0])]]\n",
    "feature_differences['stat'][-top_features:].plot(kind='barh', color=color_list[-top_features:])\n",
    "plt.plot([2,2], [-1,top_features], 'k-')\n",
    "plt.xlabel('T/Z Statistic')\n",
    "plt.title('Feature difference between subsets\\nwith positive/negative outreach')\n",
    "plt.savefig('./assets/feature_comparison_test.png', dpi=200, transparent=False, bbox_inches='tight')"
   ]
  },
  {
   "cell_type": "markdown",
   "id": "21dfa0fc-8d6a-4c24-af08-5545c0650c6e",
   "metadata": {},
   "source": [
    "### 3.3 EDA and Hypothesis Tests: Findings"
   ]
  },
  {
   "cell_type": "markdown",
   "id": "44e2ff53-92eb-4508-9eb0-cd611f51351e",
   "metadata": {},
   "source": [
    "- Experts without successful outreach: 165575\n",
    "- Experts with successful outreach: 1520\n",
    "- Percentage of experts that are associated with a successful outreach: 0.9%\n",
    "- Experts who have both a negative and a positive outreach outcome: 1117\n",
    "- Experts who have only a positive outreach outcome: 403\n",
    "- Histograms of ranking rate distributions for splits of positive and negative outreach (see notebook).\n",
    "- Box plots: numerical variables (see notebook).\n",
    "- Bar plots: binary variables (see notebook).\n",
    "- Hypothesis tests: Hypothesis testing helps identifying whether two samples belong to the same population by comparing their means (e.g., T Test) or proportions (Z Test). A significance level is chosen, `alpha`, and if the probability of the computed statstic yields a smaller `p-value`, both samples are considered to be different. Usually `alpha = 0.05`, which is associated with a `T` or `Z` value close to 2. The computation is the following:\n",
    "\n",
    "\t- For each feature, we split the dataset in entries with positve and negative outreach.\n",
    "\t- For each feature, we compute the T/Z statstic, which captures the mean/proportion differences scaled by the standard error.\n",
    "\t- If the absolute value of the statistic is large (> 2, i.e., p < 0.05, aprox.), the analyzed feature has two distinct distirbutions for positive and negative outreach.\n",
    "\n",
    "- Results of the hypothesis test:\n",
    "\n",
    "\t- The following experts are associated with positive outreach, thus, their ranking should be minimized (smaller ranking is better):\n",
    "\t\t- num_searches\n",
    "\t\t- email extension: academia\n",
    "\t\t- countries: US, NL\n",
    "\t\t- num_emails\n",
    "\n",
    "\t- The following features are associated with negative outreach, thus, their ranking should be maximized:\n",
    "\t\t- email extension: country\n",
    "\t\t- countries: ES, GB, FR, DE, CA, IT, SE\n",
    "\n",
    "- Note that in a formal setting we should check that the assumptions/requirements for applying the tests are met (normal distributions, etc.); however, here I skip that step to simplify the solution. Also note that only 25 features were checked, because these are the ones that appear in both splits."
   ]
  },
  {
   "cell_type": "code",
   "execution_count": null,
   "id": "dc561954-00ea-4510-bd02-d85d0e71d575",
   "metadata": {},
   "outputs": [],
   "source": []
  },
  {
   "cell_type": "code",
   "execution_count": null,
   "id": "1c187212-da4b-43a7-9552-fb77f50ae066",
   "metadata": {},
   "outputs": [],
   "source": []
  },
  {
   "cell_type": "code",
   "execution_count": null,
   "id": "807fec15-c39c-49fe-9eac-17ea5402592b",
   "metadata": {},
   "outputs": [],
   "source": []
  }
 ],
 "metadata": {
  "kernelspec": {
   "display_name": "Python 3 (ipykernel)",
   "language": "python",
   "name": "python3"
  },
  "language_info": {
   "codemirror_mode": {
    "name": "ipython",
    "version": 3
   },
   "file_extension": ".py",
   "mimetype": "text/x-python",
   "name": "python",
   "nbconvert_exporter": "python",
   "pygments_lexer": "ipython3",
   "version": "3.8.15"
  }
 },
 "nbformat": 4,
 "nbformat_minor": 5
}
