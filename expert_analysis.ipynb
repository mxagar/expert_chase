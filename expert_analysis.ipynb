{
 "cells": [
  {
   "cell_type": "markdown",
   "id": "704750a3-b7e0-4d1f-89f0-388d14212553",
   "metadata": {},
   "source": [
    "# Expert Chase"
   ]
  },
  {
   "cell_type": "markdown",
   "id": "03a6ace2-3dae-4f14-ace7-3e398a5c3d20",
   "metadata": {},
   "source": [
    "See the co-located [`README.md`](README.md) for more information.\n",
    "\n",
    "### Table of Contents\n",
    "\n",
    "- [1. Dataset: Load and First Exposure](#1.-Dataset:-Load-and-First-Exposure)\n",
    "    - [1.1 First Exposure: Conclusions, Notes and Next Steps](#1.1-First-Exposure:-Conclusions,-Notes-and-Next-Steps)"
   ]
  },
  {
   "cell_type": "markdown",
   "id": "bce695c5-0305-41cb-bd09-1a0bee10cd9e",
   "metadata": {},
   "source": [
    "## 1. Dataset: Load and First Exposure"
   ]
  },
  {
   "cell_type": "markdown",
   "id": "e4e8a099-b63b-4481-9eed-84f45e34baf5",
   "metadata": {},
   "source": [
    "Prior to any data analysis and modeling, we need to load and understand the dataset."
   ]
  },
  {
   "cell_type": "code",
   "execution_count": 1,
   "id": "c9662b81-c92b-4d0c-9b12-d7e337c609eb",
   "metadata": {},
   "outputs": [],
   "source": [
    "import numpy as np\n",
    "import pandas as pd\n",
    "import matplotlib.pyplot as plt\n",
    "import seaborn as sns"
   ]
  },
  {
   "cell_type": "code",
   "execution_count": 2,
   "id": "87616d59-b1d8-45df-95bc-fbcad0a5f304",
   "metadata": {},
   "outputs": [],
   "source": [
    "df = pd.read_csv('data/data_Nov_2022.csv')"
   ]
  },
  {
   "cell_type": "code",
   "execution_count": 3,
   "id": "7da273d9-745e-458a-9543-9d260de2d5e2",
   "metadata": {},
   "outputs": [
    {
     "data": {
      "text/plain": [
       "(371804, 7)"
      ]
     },
     "execution_count": 3,
     "metadata": {},
     "output_type": "execute_result"
    }
   ],
   "source": [
    "df.shape"
   ]
  },
  {
   "cell_type": "code",
   "execution_count": 17,
   "id": "6e908d16-7dca-42fd-9771-70e2ebffdf7d",
   "metadata": {},
   "outputs": [
    {
     "data": {
      "text/html": [
       "<div>\n",
       "<style scoped>\n",
       "    .dataframe tbody tr th:only-of-type {\n",
       "        vertical-align: middle;\n",
       "    }\n",
       "\n",
       "    .dataframe tbody tr th {\n",
       "        vertical-align: top;\n",
       "    }\n",
       "\n",
       "    .dataframe thead th {\n",
       "        text-align: right;\n",
       "    }\n",
       "</style>\n",
       "<table border=\"1\" class=\"dataframe\">\n",
       "  <thead>\n",
       "    <tr style=\"text-align: right;\">\n",
       "      <th></th>\n",
       "      <th>person-id</th>\n",
       "      <th>timestamp</th>\n",
       "      <th>search-id</th>\n",
       "      <th>search-ranking</th>\n",
       "      <th>countries</th>\n",
       "      <th>email-domains</th>\n",
       "      <th>outreach-success</th>\n",
       "    </tr>\n",
       "  </thead>\n",
       "  <tbody>\n",
       "    <tr>\n",
       "      <th>371799</th>\n",
       "      <td>1fdc9fe9-b2bf-49fd-a205-5182eb8a2816</td>\n",
       "      <td>2021-05-18T11:17:37.625000</td>\n",
       "      <td>f18d6829-5eb8-4df1-bd56-40a383f2a5d8</td>\n",
       "      <td>996</td>\n",
       "      <td>US</td>\n",
       "      <td>unc.edu,med.unc.edu</td>\n",
       "      <td>0</td>\n",
       "    </tr>\n",
       "    <tr>\n",
       "      <th>371800</th>\n",
       "      <td>a150e234-1452-4211-b6c3-efd1c6003056</td>\n",
       "      <td>2021-05-18T11:17:37.625000</td>\n",
       "      <td>f18d6829-5eb8-4df1-bd56-40a383f2a5d8</td>\n",
       "      <td>997</td>\n",
       "      <td>US</td>\n",
       "      <td>msx.upmc.edu</td>\n",
       "      <td>0</td>\n",
       "    </tr>\n",
       "    <tr>\n",
       "      <th>371801</th>\n",
       "      <td>668dd801-9b5d-4969-a2c5-9e694bdcc006</td>\n",
       "      <td>2021-05-18T11:17:37.625000</td>\n",
       "      <td>f18d6829-5eb8-4df1-bd56-40a383f2a5d8</td>\n",
       "      <td>998</td>\n",
       "      <td>US</td>\n",
       "      <td>omrf.org</td>\n",
       "      <td>0</td>\n",
       "    </tr>\n",
       "    <tr>\n",
       "      <th>371802</th>\n",
       "      <td>57900bb4-fb62-4a07-949b-b4f27d04e8b9</td>\n",
       "      <td>2021-05-18T11:17:37.625000</td>\n",
       "      <td>f18d6829-5eb8-4df1-bd56-40a383f2a5d8</td>\n",
       "      <td>999</td>\n",
       "      <td>US</td>\n",
       "      <td>hss.edu</td>\n",
       "      <td>0</td>\n",
       "    </tr>\n",
       "    <tr>\n",
       "      <th>371803</th>\n",
       "      <td>466185f8-54a0-473a-bde5-6a8692f1b4fb</td>\n",
       "      <td>2021-05-18T11:17:37.625000</td>\n",
       "      <td>f18d6829-5eb8-4df1-bd56-40a383f2a5d8</td>\n",
       "      <td>1000</td>\n",
       "      <td>US</td>\n",
       "      <td>hss.edu</td>\n",
       "      <td>0</td>\n",
       "    </tr>\n",
       "  </tbody>\n",
       "</table>\n",
       "</div>"
      ],
      "text/plain": [
       "                                   person-id                   timestamp  \\\n",
       "371799  1fdc9fe9-b2bf-49fd-a205-5182eb8a2816  2021-05-18T11:17:37.625000   \n",
       "371800  a150e234-1452-4211-b6c3-efd1c6003056  2021-05-18T11:17:37.625000   \n",
       "371801  668dd801-9b5d-4969-a2c5-9e694bdcc006  2021-05-18T11:17:37.625000   \n",
       "371802  57900bb4-fb62-4a07-949b-b4f27d04e8b9  2021-05-18T11:17:37.625000   \n",
       "371803  466185f8-54a0-473a-bde5-6a8692f1b4fb  2021-05-18T11:17:37.625000   \n",
       "\n",
       "                                   search-id  search-ranking countries  \\\n",
       "371799  f18d6829-5eb8-4df1-bd56-40a383f2a5d8             996        US   \n",
       "371800  f18d6829-5eb8-4df1-bd56-40a383f2a5d8             997        US   \n",
       "371801  f18d6829-5eb8-4df1-bd56-40a383f2a5d8             998        US   \n",
       "371802  f18d6829-5eb8-4df1-bd56-40a383f2a5d8             999        US   \n",
       "371803  f18d6829-5eb8-4df1-bd56-40a383f2a5d8            1000        US   \n",
       "\n",
       "              email-domains  outreach-success  \n",
       "371799  unc.edu,med.unc.edu                 0  \n",
       "371800         msx.upmc.edu                 0  \n",
       "371801             omrf.org                 0  \n",
       "371802              hss.edu                 0  \n",
       "371803              hss.edu                 0  "
      ]
     },
     "execution_count": 17,
     "metadata": {},
     "output_type": "execute_result"
    }
   ],
   "source": [
    "df.tail()"
   ]
  },
  {
   "cell_type": "code",
   "execution_count": 5,
   "id": "d164f8fc-70d0-48e9-9d26-d70418466177",
   "metadata": {},
   "outputs": [
    {
     "name": "stdout",
     "output_type": "stream",
     "text": [
      "<class 'pandas.core.frame.DataFrame'>\n",
      "RangeIndex: 371804 entries, 0 to 371803\n",
      "Data columns (total 7 columns):\n",
      " #   Column            Non-Null Count   Dtype \n",
      "---  ------            --------------   ----- \n",
      " 0   person-id         371804 non-null  object\n",
      " 1   timestamp         371804 non-null  object\n",
      " 2   search-id         371804 non-null  object\n",
      " 3   search-ranking    371804 non-null  int64 \n",
      " 4   countries         371794 non-null  object\n",
      " 5   email-domains     371793 non-null  object\n",
      " 6   outreach-success  371804 non-null  int64 \n",
      "dtypes: int64(2), object(5)\n",
      "memory usage: 19.9+ MB\n"
     ]
    }
   ],
   "source": [
    "df.info()"
   ]
  },
  {
   "cell_type": "code",
   "execution_count": 6,
   "id": "6c4895e0-bda2-4ad7-a9d3-f9dfc2c40a33",
   "metadata": {},
   "outputs": [
    {
     "data": {
      "text/plain": [
       "11"
      ]
     },
     "execution_count": 6,
     "metadata": {},
     "output_type": "execute_result"
    }
   ],
   "source": [
    "# Number of NAs due to values in countries and email-domains\n",
    "df.isna().sum(axis=1).replace({2:1}).sum(axis=0)"
   ]
  },
  {
   "cell_type": "code",
   "execution_count": 7,
   "id": "97370d3b-3571-40aa-9309-f8bb7c11bc9c",
   "metadata": {},
   "outputs": [
    {
     "data": {
      "text/plain": [
       "array(['US', 'None', nan, 'IT,US', 'US,TW', 'US,FR', 'US,IO', 'US,IL',\n",
       "       'GB,US', 'US,SG', 'CA,US', 'GR,US', 'CH,US', 'US,BR', 'LB,US',\n",
       "       'DE,US', 'ET,US', 'PH,US', 'NZ,US', 'RS,US', 'IE,US', 'NE,US',\n",
       "       'SY,US', 'US,UA', 'US,PR', 'DE', 'US,AU', 'AR,US', 'US,TR',\n",
       "       'US,MY', 'PK,US,GU', 'US,GY', 'US,DE', 'US,RS', 'US,PL', 'US,JP',\n",
       "       'US,GB', 'AU,US', 'MX,US', 'US,LB', 'EG,US', 'US,CO', 'US,AE',\n",
       "       'US,VE', 'US,FI', 'US,IT', 'TW,US', 'US,JE', 'US,ES', 'US,SE',\n",
       "       'US,HK', 'CN,US', 'US,IR', 'LT,US', 'US,BD', 'PS,US', 'DK,US',\n",
       "       'US,KR', 'US,LR', 'PK,US', 'NL,US', 'CA', 'US,CA', 'GB,ES', 'ES',\n",
       "       'IT', 'FR', 'FR,DE,GB,IT', 'FR,ES', 'GB,IT', 'FR,DE', 'GB',\n",
       "       'DE,ES', 'DE,GB', 'DE,IT', 'IT,ES', 'FR,GB', 'GB,IT,ES', 'FR,IT',\n",
       "       'DE,AT', 'US,CH', 'US,NO', 'US,BO', 'BE,US', 'AE,US', 'US,PF',\n",
       "       'US,SA', 'US,EG', 'US,PH', 'US,VN', 'US,PA', 'US,NE', 'US,ZA',\n",
       "       'US,ID', 'US,LT', 'US,HN', 'US,DK', 'IO,US', 'US,PT', 'BR',\n",
       "       'BR,US', 'BR,GT', 'BR,AU', 'BR,UY', 'BR,AR', 'BR,GB', 'BR,PT',\n",
       "       'BR,CH', 'US,AZ', 'US,CN', 'JE,US', 'US,AS', 'US,AI', 'SE',\n",
       "       'SE,US', 'SE,GB', 'US,HR', 'BR,DE', 'TR,DE', 'DE,GR', 'GB,DE',\n",
       "       'DE,CH', 'DK,DE', 'DE,LV', 'RS,DE', 'BE,DE', 'DE,NO', 'DE,NL',\n",
       "       'DE,TW', 'CA,DE', 'US,IN', 'US,IE', 'US,BE', 'AZ,US', 'IL,US',\n",
       "       'AS,US', 'BT,US', 'AI,US', 'FR,US', 'IN,US', 'GE,US', 'KR,US',\n",
       "       'DM,US', 'JP,US', 'NO,US', 'MW,US', 'BW,US', 'ES,US', 'VC,US',\n",
       "       'CO,US', 'FR,AU', 'FR,OM', 'BE,CA', 'GB,FR', 'US,VC', 'US,ET',\n",
       "       'NL', 'BE', 'PL', 'ZA,US', 'SA,US', 'ID,US', 'HN,US', 'US,MX',\n",
       "       'GB,NE', 'GB,IO', 'GB,ZW', 'GB,IE', 'GB,AU', 'GB,GR', 'CA,GB',\n",
       "       'OM,GB', 'GB,LB', 'GB,PK', 'GB,ZA', 'CZ', 'ZW,GB', 'CH,GB',\n",
       "       'GB,CA', 'TZ,GB', 'IT,GB', 'NE,GB', 'GB,AT', 'AU,GB', 'GB,NA',\n",
       "       'NL,GB', 'GB,SE', 'GB,CZ', 'GB,JP', 'GB,KR', 'GB,CH', 'GB,PT',\n",
       "       'GB,BE', 'CM,US', 'US,GR', 'US,PK', 'US,GH', 'US,NL', 'US,GB,TW',\n",
       "       'SE,DE', 'FR,SE,DE', 'FR,SE', 'AT,DE', 'AU,FR', 'GR,DE', 'CH,DE',\n",
       "       'CA,FR,DE', 'ES,DE', 'IO,SE,DE', 'US,GE', 'AT,SE,DE', 'IO,DE',\n",
       "       'TN,US', 'MX,IT', 'KH,US', 'BG,US', 'NO,DE', 'IT,DE', 'NL,DE',\n",
       "       'TW,DE', 'PT,DE', 'US,BT', 'PR,US', 'US,MW', 'US,KE', 'US,AR',\n",
       "       'US,QA', 'AE,CA,US', 'SG,US', 'GU,US', 'IR,US', 'AR,ES', 'US,JO',\n",
       "       'ZA,US,IL', 'LY,US', 'IN', 'GR', 'DZ', 'IE', 'KP', 'CN', 'IR',\n",
       "       'TH', 'JP', 'AT', 'TN', 'KR', 'DE,AU', 'SG', 'TR', 'SA,FR,IR',\n",
       "       'RU', 'AE', 'AE,GB', 'AU', 'TW', 'PT', 'IN,CN', 'DK', 'AR',\n",
       "       'PT,US', 'DE,US,NL,IL', 'CA,AT,AU', 'CH', 'KP,KR', 'SA', 'IL',\n",
       "       'IN,IO', 'AU,IL', 'HR', 'AT,US', 'CN,JP', 'HR,HK,AU', 'UA',\n",
       "       'IT,DE,AU', 'QA', 'DE,IE', 'AT,NL', 'CL', 'MX', 'SV', 'AT,US,DE',\n",
       "       'FR,DE,CH', 'PL,DE', 'HU,US', 'EG', 'HK', 'IS', 'US,DE,AU',\n",
       "       'ZA,GB', 'US,GB,AU', 'CN,KR', 'BR,ES', 'LU', 'KR,GB,BE', 'MY',\n",
       "       'ZA', 'CO,DK', 'FI,US', 'IT,US,DE', 'NZ,DE', 'CN,TW', 'FI',\n",
       "       'AT,CH', 'SE,NO', 'GH', 'VE', 'FR,CH', 'FR,LU', 'IE,AU',\n",
       "       'CN,US,TW', 'ES,SE', 'PL,US', 'NO', 'CN,FR', 'CN,CA', 'US,DE,SG',\n",
       "       'UA,US', 'PK', 'CZ,AT', 'BR,IT,ES', 'ES,GB', 'FR,IE', 'CH,AU',\n",
       "       'CN,BE', 'CA,AT', 'DE,ES,IT', 'CO', 'SI', 'VN', 'AR,US,IT', 'RS',\n",
       "       'NZ', 'SK', 'LT', 'BW', 'CZ,US', 'PE', 'ID', 'CR', 'HU', 'KW',\n",
       "       'RO', 'JO', 'GR,US,NL', 'CS', 'PT,ES', 'CL,US', 'US,AT', 'GE,GB',\n",
       "       'NO,GB', 'IT,BE', 'TH,US', 'KE,US', 'DE,BR', 'DE,PT', 'US,BM',\n",
       "       'BD,US', 'EE,US', 'US,BS', 'US,MK', 'US,NZ', 'US,MD', 'US,OM',\n",
       "       'KG,DE', 'SY,GB', 'BM,US', 'US,EE', 'US,CL', 'BH', 'DE,SG', 'NONE',\n",
       "       'DE,TH', 'DE,JP', 'DE,BE', 'US,KH', 'GH,US', 'HK,US', 'AU,NL',\n",
       "       'GB,UA', 'IL,AT', 'US,NL,FR', 'IT,NL', 'NG', 'IO,IN', 'CU', 'NP',\n",
       "       'AT,FR', 'IO', 'NO,CN'], dtype=object)"
      ]
     },
     "execution_count": 7,
     "metadata": {},
     "output_type": "execute_result"
    }
   ],
   "source": [
    "# Unique country values: we need to split them, also there are NaNs\n",
    "df.countries.unique()"
   ]
  },
  {
   "cell_type": "code",
   "execution_count": 24,
   "id": "a11230a3-043f-4e10-a9d2-e5b9d79be2b5",
   "metadata": {},
   "outputs": [
    {
     "data": {
      "text/plain": [
       "<AxesSubplot: ylabel='Frequency'>"
      ]
     },
     "execution_count": 24,
     "metadata": {},
     "output_type": "execute_result"
    },
    {
     "data": {
      "image/png": "[encoded data removed]",
      "text/plain": [
       "<Figure size 500x300 with 1 Axes>"
      ]
     },
     "metadata": {},
     "output_type": "display_data"
    }
   ],
   "source": [
    "# Ranking histogram\n",
    "df['search-ranking'].plot(kind='hist', figsize=(5,3))"
   ]
  },
  {
   "cell_type": "code",
   "execution_count": 25,
   "id": "79d186d5-735b-4a15-b837-6597195619ea",
   "metadata": {},
   "outputs": [
    {
     "data": {
      "text/plain": [
       "284"
      ]
     },
     "execution_count": 25,
     "metadata": {},
     "output_type": "execute_result"
    }
   ],
   "source": [
    "# We have 371804 entries, but only 284 unique search-ids\n",
    "len(df['search-id'].unique())"
   ]
  },
  {
   "cell_type": "code",
   "execution_count": 27,
   "id": "c0ca5a39-beb1-482e-91d2-69ad758a48c9",
   "metadata": {},
   "outputs": [
    {
     "data": {
      "text/plain": [
       "1000    70\n",
       "500     44\n",
       "2000    35\n",
       "300     25\n",
       "800     19\n",
       "4000    11\n",
       "3000    10\n",
       "1500    10\n",
       "100      8\n",
       "200      8\n",
       "5000     6\n",
       "600      5\n",
       "900      5\n",
       "2500     5\n",
       "50       5\n",
       "6000     4\n",
       "1        4\n",
       "400      4\n",
       "7000     2\n",
       "1400     1\n",
       "3500     1\n",
       "700      1\n",
       "250      1\n",
       "Name: search-ranking, dtype: int64"
      ]
     },
     "execution_count": 27,
     "metadata": {},
     "output_type": "execute_result"
    }
   ],
   "source": [
    "# Each search has a number of ranking results, probably manually defined\n",
    "# The following list shows how many times each number of ranking results appears\n",
    "# E.g., a ranking list of length 1000 was the most common and appears in 70 searches\n",
    "# a ranking list of length 250 is the least common and appears in 1 search\n",
    "df.groupby('search-id')['search-ranking'].max().value_counts()"
   ]
  },
  {
   "cell_type": "code",
   "execution_count": 28,
   "id": "5079dbd5-c784-4b56-92dc-732ed4bc83a4",
   "metadata": {},
   "outputs": [
    {
     "data": {
      "text/plain": [
       "43542"
      ]
     },
     "execution_count": 28,
     "metadata": {},
     "output_type": "execute_result"
    }
   ],
   "source": [
    "# Unique email domains: as with countries, we need to split them \n",
    "len(df['email-domains'].unique())"
   ]
  },
  {
   "cell_type": "code",
   "execution_count": 29,
   "id": "33297855-2650-4ef8-9e2d-94816cb600ae",
   "metadata": {},
   "outputs": [
    {
     "data": {
      "text/plain": [
       "167108"
      ]
     },
     "execution_count": 29,
     "metadata": {},
     "output_type": "execute_result"
    }
   ],
   "source": [
    "# We have 371804 entries, but only 167109 unique person-ids\n",
    "len(df['person-id'].unique())"
   ]
  },
  {
   "cell_type": "code",
   "execution_count": 30,
   "id": "640ca842-35ea-45a7-a1b5-6b89bbc0100d",
   "metadata": {},
   "outputs": [
    {
     "data": {
      "text/plain": [
       "284"
      ]
     },
     "execution_count": 30,
     "metadata": {},
     "output_type": "execute_result"
    }
   ],
   "source": [
    "# We have 284 timestamps\n",
    "len(df['timestamp'].unique())"
   ]
  },
  {
   "cell_type": "code",
   "execution_count": 31,
   "id": "4b186d01-8038-4a50-9092-e4c6235580e2",
   "metadata": {},
   "outputs": [
    {
     "data": {
      "text/plain": [
       "284"
      ]
     },
     "execution_count": 31,
     "metadata": {},
     "output_type": "execute_result"
    }
   ],
   "source": [
    "# Each timestamp is related to a search-id\n",
    "df.groupby('search-id')['timestamp'].nunique().sum()"
   ]
  },
  {
   "cell_type": "code",
   "execution_count": 32,
   "id": "57e32dca-f9b2-425f-a0a7-a7a1576f2092",
   "metadata": {},
   "outputs": [
    {
     "name": "stdout",
     "output_type": "stream",
     "text": [
      "0    370259\n",
      "1      1534\n",
      "Name: outreach-success, dtype: int64\n",
      "\n",
      "Outreach-success ratio: 0.004125951806515991\n"
     ]
    }
   ],
   "source": [
    "# Outreach success rate: 0.4%\n",
    "success = df['outreach-success'].value_counts()\n",
    "print(success)\n",
    "print(f\"\\nOutreach-success ratio: {success[1]/df.shape[0]}\")"
   ]
  },
  {
   "cell_type": "markdown",
   "id": "4caf9594-dd0c-48ef-9488-c70516941a07",
   "metadata": {},
   "source": [
    "### 1.1 First Exposure: Conclusions, Notes and Next Steps\n",
    "\n",
    "- Countries and emails have NAs, 11 entries are affected.\n",
    "- We have 371804 entries, but only 167109 unique person-ids.\n",
    "- We have 371804 entries, but only 284 unique search-ids, which have their own timestamp; the search-id could be probably dropped, since the timestamp might contain its category information and additional time information (month, etc.).\n",
    "- Search outcome/ranking lenths vary from 1 to 7000; a ranking length 1000 is the most common, 250 the least common. \n",
    "- The current outreach-success rate is 0.4%; the dataset is very imbalanced.\n",
    "\n",
    "Questions:\n",
    "\n",
    "- How is ranking determined?\n",
    "- Could we get more information about expert candidates? E.g., years of experience, number of companies they've worked in, whether they've done conosulting or not, etc.\n",
    "- Are there candidates who don't respond in the initial contact(s) (outreach-success 0), but they end up responding? Which are their features? I can imagine there's a technical term for those candidates...\n",
    "\n",
    "Next Steps:\n",
    "\n",
    "- Drop NAs.\n",
    "- Countries and emails need to be split into categories; seems easy, because text appears to be quite clean.\n",
    "- Process timestamp.\n",
    "\n",
    "Extra points:\n",
    "\n",
    "- Maybe the number of countries/emails a person has is relevant (feature engineering)."
   ]
  },
  {
   "cell_type": "markdown",
   "id": "8627eeb5-594e-4796-8952-ecaeb29901ad",
   "metadata": {},
   "source": [
    "## 2. Data Preprocessing and Cleaning"
   ]
  },
  {
   "cell_type": "code",
   "execution_count": 33,
   "id": "e72775c3-d3eb-48c5-bc48-7e4bc4fae700",
   "metadata": {},
   "outputs": [],
   "source": [
    "df_org = df.copy()"
   ]
  },
  {
   "cell_type": "code",
   "execution_count": 35,
   "id": "84cb4800-5137-46df-9d84-74d2fd6ccd59",
   "metadata": {},
   "outputs": [],
   "source": [
    "# We can safely remove the NAs, because they affect to only 11 entries\n",
    "# and they appear in the features that I assume to be most predictive: country and email-domain\n",
    "df = df.dropna()"
   ]
  },
  {
   "cell_type": "code",
   "execution_count": 36,
   "id": "25e5cb2d-6ba9-443f-a109-3023ec3b9d74",
   "metadata": {},
   "outputs": [
    {
     "data": {
      "text/plain": [
       "(371793, 7)"
      ]
     },
     "execution_count": 36,
     "metadata": {},
     "output_type": "execute_result"
    }
   ],
   "source": [
    "# New number of entries: 371793\n",
    "df.shape"
   ]
  },
  {
   "cell_type": "code",
   "execution_count": null,
   "id": "ad549ed1-623b-4734-b2f4-e07ea6b6c054",
   "metadata": {},
   "outputs": [],
   "source": [
    "# Countries\n"
   ]
  }
 ],
 "metadata": {
  "kernelspec": {
   "display_name": "Python 3 (ipykernel)",
   "language": "python",
   "name": "python3"
  },
  "language_info": {
   "codemirror_mode": {
    "name": "ipython",
    "version": 3
   },
   "file_extension": ".py",
   "mimetype": "text/x-python",
   "name": "python",
   "nbconvert_exporter": "python",
   "pygments_lexer": "ipython3",
   "version": "3.8.15"
  }
 },
 "nbformat": 4,
 "nbformat_minor": 5
}
